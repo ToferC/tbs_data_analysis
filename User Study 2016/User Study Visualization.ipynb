{
 "cells": [
  {
   "cell_type": "markdown",
   "metadata": {},
   "source": [
    "# Visualization\n",
    "\n",
    "There is a meeting coming up on wednesday, and I want to have some cool presentations to show what I can do.\n",
    "\n",
    "This notebook will be all about visualizing my things.\n",
    "\n",
    "I'm gonna try my very best to leverage the clean data set that I took from before. Also I'm gonna do my best to use Seaborn, since it's so easy and beautiful. One of the biggest challenges is the fact that the user study has a massive amount of options to reflect the public service. This means we have to drill fairly deep down to find what we want."
   ]
  },
  {
   "cell_type": "code",
   "execution_count": null,
   "metadata": {
    "collapsed": true
   },
   "outputs": [],
   "source": [
    "import pandas as pd\n",
    "import numpy as np\n",
    "import matplotlib.pyplot as plt\n",
    "import seaborn as sns"
   ]
  },
  {
   "cell_type": "code",
   "execution_count": null,
   "metadata": {
    "collapsed": false
   },
   "outputs": [],
   "source": [
    "df = pd.read_csv('/Users/Owner/Documents/Work_transfer/User Study 2016/Clean_File.csv', encoding = 'latin1')"
   ]
  },
  {
   "cell_type": "code",
   "execution_count": null,
   "metadata": {
    "collapsed": false
   },
   "outputs": [],
   "source": [
    "df.shape"
   ]
  },
  {
   "cell_type": "code",
   "execution_count": null,
   "metadata": {
    "collapsed": false
   },
   "outputs": [],
   "source": [
    "df['Department'].value_counts()\n",
    "\n",
    "top10dep = list(df['Department'].value_counts()[0:10].reset_index()['index'])\n",
    "top5comm = list(df['Community'].value_counts()[0:5].reset_index()['index'])"
   ]
  },
  {
   "cell_type": "code",
   "execution_count": null,
   "metadata": {
    "collapsed": false
   },
   "outputs": [],
   "source": [
    "depdf = df[df['Department'].isin(top10dep) & df['Community'].isin(top5comm)]"
   ]
  },
  {
   "cell_type": "code",
   "execution_count": null,
   "metadata": {
    "collapsed": false
   },
   "outputs": [],
   "source": [
    "ax = sns.countplot(x = \"Community\", hue = \"Department\", data = depdf)\n",
    "ax.legend(loc = 'upper left', bbox_to_anchor = (1,1))\n",
    "ax.set_xticklabels(ax.xaxis.get_majorticklabels(), rotation=90)\n",
    "ax.set_title(\"Top Departments by Top Communities\")\n",
    "plt.show()\n",
    "# While this approach worked, this isn't really what I wanted to do."
   ]
  },
  {
   "cell_type": "code",
   "execution_count": null,
   "metadata": {
    "collapsed": false
   },
   "outputs": [],
   "source": [
    "ax1 = sns.countplot(x = \"Community\", data = df)\n",
    "ax1.set_xticklabels(ax1.xaxis.get_majorticklabels(), rotation = 90)\n",
    "ax1.set_title(\"Top Communities of Work on GCconnex\")\n",
    "plt.show()"
   ]
  },
  {
   "cell_type": "code",
   "execution_count": null,
   "metadata": {
    "collapsed": false
   },
   "outputs": [],
   "source": [
    "#I want to look at the top communities of each \n",
    "\n",
    "g = sns.factorplot(\"Community\", col = \"Department\", data = df[df['Department'].isin(top10dep)], kind = \"count\",\n",
    "                  col_wrap = 5, size = 10)\n",
    "g.set_xticklabels(rotation = 90)\n",
    "plt.show()"
   ]
  },
  {
   "cell_type": "markdown",
   "metadata": {},
   "source": [
    "The above graph is hardly presentable, but it does let me know what's going on. My goal is to look at some of the top departments and pull out the top 5 communities of each one. It shouldn't be too hard. All I have to do is go through each possible department, and pull the top 5 most popular communities from there, and then probably store that in a dictionary."
   ]
  },
  {
   "cell_type": "code",
   "execution_count": null,
   "metadata": {
    "collapsed": false
   },
   "outputs": [],
   "source": [
    "deplist = list(df['Department'].unique())"
   ]
  },
  {
   "cell_type": "code",
   "execution_count": null,
   "metadata": {
    "collapsed": false
   },
   "outputs": [],
   "source": [
    "depcommunity = {}\n",
    "for dep in deplist:\n",
    "    \n",
    "    comms = list(df[df['Department'] == dep]['Community'].value_counts().reset_index()['index'][0:5])\n",
    "\n",
    "    \n",
    "    depcommunity[dep] = df[(df['Department'] == dep) & (df['Community'].isin(comms))] # For each department, filter\n",
    "    #the dataframe to only include the top five communities for that dataframe\n",
    "    \n",
    "    "
   ]
  },
  {
   "cell_type": "code",
   "execution_count": null,
   "metadata": {
    "collapsed": false
   },
   "outputs": [],
   "source": [
    "for dep in range(len(deplist)):\n",
    "    g = sns.countplot(\"Community\", hue = \"EasyUse\", data = depcommunity[deplist[dep]])\n",
    "    g.set_xticklabels(g.xaxis.get_majorticklabels(), rotation= 90)\n",
    "    g.set_title(\"Ease of Use by Community of Work in \" + deplist[dep])\n",
    "    plt.savefig(\"/Users/Owner/Documents/Work_transfer/User Study 2016/Plots/\"+deplist[dep]+\" Plot.pdf\")\n",
    "    plt.tight_layout()\n",
    "\n",
    "    plt.show()\n",
    "\n",
    "    plt.clf()\n",
    "    \n"
   ]
  },
  {
   "cell_type": "code",
   "execution_count": null,
   "metadata": {
    "collapsed": false
   },
   "outputs": [],
   "source": [
    "f = sns.countplot(\"Community\", hue = \"EasyUse\", data = df)\n",
    "f.set_xticklabels(f.xaxis.get_majorticklabels(), rotation = 90)\n",
    "f.set_title('Ease of Use of GCconnex by Community')\n",
    "plt.show()"
   ]
  },
  {
   "cell_type": "code",
   "execution_count": null,
   "metadata": {
    "collapsed": false
   },
   "outputs": [],
   "source": [
    "y = sns.countplot(\"SMLevel\", hue = \"EasyUse\", data = df, order = [\"Beginner\", \"Intermediate\", 'Advanced'])\n",
    "y.set_title(\"Ease of Use GCconnex By Social Media Experience\")\n",
    "plt.show()"
   ]
  },
  {
   "cell_type": "code",
   "execution_count": null,
   "metadata": {
    "collapsed": false
   },
   "outputs": [],
   "source": [
    "len(df['Department'].unique())"
   ]
  },
  {
   "cell_type": "code",
   "execution_count": null,
   "metadata": {
    "collapsed": false
   },
   "outputs": [],
   "source": [
    "z = sns.countplot(\"UsageLength\", hue = \"EasyUse\", data = df,\n",
    "                  order = [\"Less than a month\", \"One month to less than six months\", \"Six months to less than one year\",\n",
    "                           \"One year\", \"More than one year (please indicate the number of years):\"])\n",
    "z.set_title(\"Ease of Use by Length of Usage\")\n",
    "z.set_xticklabels(z.xaxis.get_majorticklabels(), rotation = 90)\n",
    "plt.show() # No discernible pattern from this plot. No evidence of a learning curve from this one."
   ]
  },
  {
   "cell_type": "code",
   "execution_count": null,
   "metadata": {
    "collapsed": false
   },
   "outputs": [],
   "source": [
    "r = sns.countplot(\"HowOftenUse\", hue = \"EasyUse\", data = df, order = [\"Rarely (e.g. less than once a month)\",\n",
    "                                                                     \"Occasionally (e.g. few times a month)\",\n",
    "                                                                      \"Frequently (e.g. few times a week)\",\n",
    "                                                                      \"Very Frequently (e.g. daily)\"])\n",
    "r.set_title(\"Ease of Use and Frequency of Use\")\n",
    "r.set_xticklabels(r.xaxis.get_majorticklabels(), rotation = 90)\n",
    "plt.show()"
   ]
  },
  {
   "cell_type": "code",
   "execution_count": null,
   "metadata": {
    "collapsed": false
   },
   "outputs": [],
   "source": [
    "df['HowOftenUse'].value_counts()"
   ]
  },
  {
   "cell_type": "code",
   "execution_count": null,
   "metadata": {
    "collapsed": false
   },
   "outputs": [],
   "source": [
    "nouse = df.filter(regex = \"NoUse\").fillna(0)\n",
    "nouse.columns = (\"I Don't\\nKnow Why\\nI Would Use It\", \"I do not\\nrequire Collaboration\",\n",
    "                 \"Uncomfortable with\\nworking so publicly\", \"My Supervisor\\nDoesn't Approve\",\n",
    "                 \"Don't have time to\\nlearn something new\",\n",
    "                 \"People I collaborate \\nwith don't use it\")\n",
    "nouse[\"It doesn't have\\nthe information\\nI need\"] = df['NoToolsInfo']\n",
    "nouse[\"I don't see its value or\\npurpose\"] = df['NoPurpose']"
   ]
  },
  {
   "cell_type": "code",
   "execution_count": null,
   "metadata": {
    "collapsed": false
   },
   "outputs": [],
   "source": [
    "g = nouse.sum().plot.bar()\n",
    "g.set_title(\"Why People Do Not Use GCconnex\")\n",
    "g.set_ylabel(\"Number of Responses\")\n",
    "g.set_xticklabels(g.xaxis.get_majorticklabels(), rotation = 70)\n",
    "plt.show()"
   ]
  },
  {
   "cell_type": "code",
   "execution_count": null,
   "metadata": {
    "collapsed": false,
    "scrolled": true
   },
   "outputs": [],
   "source": [
    "t = sns.countplot('Age', data = df, hue = 'HowOftenUse', \n",
    "                  hue_order = [\"Rarely (e.g. less than once a month)\",\n",
    "                                \"Occasionally (e.g. few times a month)\",\n",
    "                                \"Frequently (e.g. few times a week)\",\n",
    "                                \"Very Frequently (e.g. daily)\"],\n",
    "                 order = ['24 years and under',\n",
    "                          '25 to 29 years',\n",
    "                          '30 to 34 years',\n",
    "                          '35 to 39 years',\n",
    "                          '40 to 44 years',\n",
    "                          '45 to 49 years',\n",
    "                          '50 to 54 years',\n",
    "                          '55 to 59 years',\n",
    "                          '60 years and over'])\n",
    "t.set_xticklabels(t.xaxis.get_majorticklabels(), rotation = 90)\n",
    "t.legend(loc = 'upper left', bbox_to_anchor = (1,1))\n",
    "t.set_title(\"Frequency of Use by Age\")\n",
    "\n",
    "plt.show()"
   ]
  },
  {
   "cell_type": "code",
   "execution_count": null,
   "metadata": {
    "collapsed": false
   },
   "outputs": [],
   "source": [
    "q = sns.countplot('Gender', data = df, hue = 'HowOftenUse',\n",
    "                 hue_order = [\"Rarely (e.g. less than once a month)\",\n",
    "                                                                     \"Occasionally (e.g. few times a month)\",\n",
    "                                                                      \"Frequently (e.g. few times a week)\",\n",
    "                                                                      \"Very Frequently (e.g. daily)\"])\n",
    "q.set_title(\"Frequency of Use by Gender\")\n",
    "q.set_xticklabels(q.xaxis.get_majorticklabels(), rotation = 0)\n",
    "q.legend(loc = 'upper left', bbox_to_anchor = (1,1))\n",
    "plt.show()"
   ]
  },
  {
   "cell_type": "code",
   "execution_count": null,
   "metadata": {
    "collapsed": false
   },
   "outputs": [],
   "source": [
    "dfeasy = df[df['EasyUse'] == \"Yes\"]"
   ]
  },
  {
   "cell_type": "code",
   "execution_count": null,
   "metadata": {
    "collapsed": false
   },
   "outputs": [],
   "source": [
    "dfeasy_sums = pd.Series(dfeasy.filter(regex = 'Why').sum())"
   ]
  },
  {
   "cell_type": "code",
   "execution_count": null,
   "metadata": {
    "collapsed": false
   },
   "outputs": [],
   "source": [
    "dfnoteasy_sums = pd.Series(df[df['EasyUse'] == \"No\"].filter(regex = \"Why\").sum())"
   ]
  },
  {
   "cell_type": "code",
   "execution_count": null,
   "metadata": {
    "collapsed": false
   },
   "outputs": [],
   "source": [
    "print (len(dfeasy))\n",
    "print (len(df[df['EasyUse'] == \"No\"]))"
   ]
  },
  {
   "cell_type": "code",
   "execution_count": null,
   "metadata": {
    "collapsed": true
   },
   "outputs": [],
   "source": [
    "dfeasy_sums = 100*dfeasy_sums/len(dfeasy)"
   ]
  },
  {
   "cell_type": "code",
   "execution_count": null,
   "metadata": {
    "collapsed": false
   },
   "outputs": [],
   "source": []
  },
  {
   "cell_type": "code",
   "execution_count": null,
   "metadata": {
    "collapsed": false
   },
   "outputs": [],
   "source": [
    "dfnoteasy_sums = 100*dfnoteasy_sums/len(df[df['EasyUse'] == \"No\"])"
   ]
  },
  {
   "cell_type": "code",
   "execution_count": null,
   "metadata": {
    "collapsed": false
   },
   "outputs": [],
   "source": [
    "df[\"EasyUse\"].unique()"
   ]
  },
  {
   "cell_type": "code",
   "execution_count": null,
   "metadata": {
    "collapsed": false
   },
   "outputs": [],
   "source": [
    "dfpercentages = pd.concat([dfeasy_sums, dfnoteasy_sums], axis = 1)\n"
   ]
  },
  {
   "cell_type": "code",
   "execution_count": null,
   "metadata": {
    "collapsed": false
   },
   "outputs": [],
   "source": [
    "dfpercentages.columns = ['Easy', 'Not Easy']\n",
    "\n",
    "dfpercentages.plot.bar() # This is shown in percentages. So there isn't m\n",
    "plt.show() # This is broken"
   ]
  },
  {
   "cell_type": "code",
   "execution_count": null,
   "metadata": {
    "collapsed": false
   },
   "outputs": [],
   "source": [
    "sns.set_style(\"dark\")\n",
    "palette = [\"#4C72B0\", \"#55A868\", \"#C44E52\",\n",
    "          \"#8172B2\", \"#CCB974\", \"#64B5CD\"]\n",
    "newcolor = [palette[0], palette[2], palette[1]]\n"
   ]
  },
  {
   "cell_type": "markdown",
   "metadata": {},
   "source": [
    "## Visually exploring some of the results of the random forest classification:"
   ]
  },
  {
   "cell_type": "code",
   "execution_count": null,
   "metadata": {
    "collapsed": false
   },
   "outputs": [],
   "source": [
    "ei = sns.countplot(\"EasyInfo\", data = df, hue = \"EasyUse\", palette = newcolor,\n",
    "                   order = [\"Yes\", \"No\", \"Don't know / Not sure\"])\n",
    "ei.set_title(\"Was it easy to find the information you needed?\")\n",
    "ei.set_xticklabels(ei.xaxis.get_majorticklabels(), rotation = 0)\n",
    "ei.legend(loc = 'upper left', bbox_to_anchor = (1,1), title = \"Did you find GCconnex easy to use?\")\n",
    "ei.set_xlabel(\" \")\n",
    "plt.show()"
   ]
  },
  {
   "cell_type": "code",
   "execution_count": null,
   "metadata": {
    "collapsed": false
   },
   "outputs": [],
   "source": [
    "ob = sns.countplot(\"EasyOnBoarding\", data = df, hue = \"EasyUse\", palette = newcolor,\n",
    "                  order = [\"Yes\", \"No\", \"Don't know / Not sure / Don't use\"])\n",
    "ob.set_title(\"Was it easy to navigate the onboarding module?\")\n",
    "ob.set_xticklabels(ob.xaxis.get_majorticklabels(), rotation = 0)\n",
    "ob.legend(loc = 'upper left', bbox_to_anchor = (1,1),  title = \"Did you find GCconnex easy to use?\")\n",
    "ob.set_xlabel(\" \")\n",
    "plt.show()"
   ]
  },
  {
   "cell_type": "code",
   "execution_count": null,
   "metadata": {
    "collapsed": false
   },
   "outputs": [],
   "source": [
    "ig = sns.countplot(\"EasyInformationGroup\", data = df, hue = \"EasyUse\", palette = newcolor,\n",
    "                  order = [\"Yes\", \"No\", \"Don't know / Not sure / Don't use\"])\n",
    "ig.set_title(\"Was it easy to find information in groups?\")\n",
    "ig.set_xticklabels(ig.xaxis.get_majorticklabels(), rotation = 0)\n",
    "ig.legend(loc = 'upper left', bbox_to_anchor = (1,1),  title = \"Did you find GCconnex easy to use?\")\n",
    "ig.set_xlabel(\" \")\n",
    "plt.show()"
   ]
  },
  {
   "cell_type": "code",
   "execution_count": null,
   "metadata": {
    "collapsed": false
   },
   "outputs": [],
   "source": [
    "igc = sns.countplot(\"EasyInformationGroup\", data = df, palette = newcolor)\n",
    "igc.set_title(\"Was it easy to find information in groups?\")\n",
    "igc.set_xticklabels(igc.xaxis.get_majorticklabels(), rotation = 0)\n",
    "igc.set_xlabel(\" \")\n",
    "plt.show()"
   ]
  },
  {
   "cell_type": "code",
   "execution_count": null,
   "metadata": {
    "collapsed": false
   },
   "outputs": [],
   "source": [
    "ecg = sns.countplot(\"EasyCollabGroup\", data = df, palette = newcolor, order = [\"Yes\",\n",
    "                                                                               \"No\",\n",
    "                                                                               \"Don't know / Not sure / Don't use\"])\n",
    "ecg.set_title(\"Did you Find Collaborating and Communicating in a Group Easy?\")\n",
    "ecg.set_xticklabels(ecg.xaxis.get_majorticklabels(), rotation = 0)\n",
    "ecg.set_xlabel(\" \")\n",
    "plt.show()"
   ]
  },
  {
   "cell_type": "code",
   "execution_count": null,
   "metadata": {
    "collapsed": true
   },
   "outputs": [],
   "source": [
    "ecgdf = df[df['EasyCollabGroup'] == \"Don't know / Not sure / Don't use\"]"
   ]
  },
  {
   "cell_type": "code",
   "execution_count": null,
   "metadata": {
    "collapsed": false
   },
   "outputs": [],
   "source": [
    "ecgdfcp = sns.countplot(\"EasyInfo\", data = ecgdf, palette = newcolor, order = ['Yes',\n",
    "                                                                                     'No',\n",
    "                                                                                     \"Don't know / Not sure\"])\n",
    "ecgdfcp.set_title(\"Do you find GCconnex Easy to Use? (Collab = Don't Know)\")\n",
    "ecgdfcp.set_xticklabels(ecgdfcp.xaxis.get_majorticklabels(), rotation = 0)\n",
    "ecgdfcp.set_xlabel(\" \")\n",
    "plt.show()"
   ]
  },
  {
   "cell_type": "code",
   "execution_count": null,
   "metadata": {
    "collapsed": false
   },
   "outputs": [],
   "source": [
    "communityplotslist = list(df['Community'].value_counts())"
   ]
  },
  {
   "cell_type": "code",
   "execution_count": null,
   "metadata": {
    "collapsed": false
   },
   "outputs": [],
   "source": [
    "onboarding  = df[df['EasyOnBoarding'] == 'No']"
   ]
  },
  {
   "cell_type": "code",
   "execution_count": null,
   "metadata": {
    "collapsed": false
   },
   "outputs": [],
   "source": [
    "def sectionanalysis(dataframe):   # Function to recreate all the graphs from a certain perspective\n",
    "    \n",
    "    \n",
    "    ecgdfcp = sns.countplot(\"EasyUse\", data = dataframe, palette = newcolor, order = ['Yes',\n",
    "                                                                                     'No',\n",
    "                                                                                     \"Don't know / Not sure\"])\n",
    "    ecgdfcp.set_title(\"Do you find GCconnex Easy to Use? (Collab = Don't Know)\")\n",
    "    ecgdfcp.set_xticklabels(ecgdfcp.xaxis.get_majorticklabels(), rotation = 0)\n",
    "    ecgdfcp.set_xlabel(\" \")\n",
    "    \n",
    "    plt.show()\n",
    "    \n",
    "    ei = sns.countplot(\"EasyInfo\", data = dataframe, hue = \"EasyUse\", palette = newcolor,\n",
    "                   order = [\"Yes\", \"No\", \"Don't know / Not sure\"])\n",
    "    ei.set_title(\"Was it easy to find the information you needed?\")\n",
    "    ei.set_xticklabels(ei.xaxis.get_majorticklabels(), rotation = 0)\n",
    "    ei.legend(loc = 'upper left', bbox_to_anchor = (1,1), title = \"Did you find GCconnex easy to use?\")\n",
    "    ei.set_xlabel(\" \")\n",
    "    \n",
    "    plt.show()\n",
    "    \n",
    "    ecg = sns.countplot(\"EasyCollabGroup\", data = dataframe, palette = newcolor, order = [\"Yes\",\n",
    "                                                                               \"No\",\n",
    "                                                                               \"Don't know / Not sure / Don't use\"])\n",
    "    ecg.set_title(\"Did you Find Collaborating and Communicating in a Group Easy?\")\n",
    "    ecg.set_xticklabels(ecg.xaxis.get_majorticklabels(), rotation = 0)\n",
    "    ecg.set_xlabel(\" \")\n",
    "    \n",
    "    \n",
    "    plt.show()\n",
    "    \n",
    "    ig = sns.countplot(\"EasyInformationGroup\", data = dataframe, hue = \"EasyUse\", palette = newcolor,\n",
    "                  order = [\"Yes\", \"No\", \"Don't know / Not sure / Don't use\"])\n",
    "    ig.set_title(\"Was it easy to find information in groups?\")\n",
    "    ig.set_xticklabels(ig.xaxis.get_majorticklabels(), rotation = 0)\n",
    "    ig.legend(loc = 'upper left', bbox_to_anchor = (1,1),  title = \"Did you find GCconnex easy to use?\")\n",
    "    ig.set_xlabel(\" \")\n",
    "    \n",
    "    plt.show()\n",
    "    "
   ]
  },
  {
   "cell_type": "markdown",
   "metadata": {},
   "source": [
    "# Those Who Found Onboarding Not Easy"
   ]
  },
  {
   "cell_type": "code",
   "execution_count": null,
   "metadata": {
    "collapsed": false
   },
   "outputs": [],
   "source": [
    "sectionanalysis(onboarding)"
   ]
  },
  {
   "cell_type": "code",
   "execution_count": null,
   "metadata": {
    "collapsed": false
   },
   "outputs": [],
   "source": [
    "df_EasyInfo_No = df[df['EasyInfo'] == \"No\"]\n",
    "\n",
    "sectionanalysis(df_EasyInfo_No)"
   ]
  },
  {
   "cell_type": "code",
   "execution_count": null,
   "metadata": {
    "collapsed": false
   },
   "outputs": [],
   "source": [
    "df_EasyInfo_Yes = df[df['EasyInfo'] == \"Yes\"]\n",
    "\n",
    "sectionanalysis(df_EasyInfo_Yes)"
   ]
  },
  {
   "cell_type": "code",
   "execution_count": null,
   "metadata": {
    "collapsed": true
   },
   "outputs": [],
   "source": []
  }
 ],
 "metadata": {
  "anaconda-cloud": {},
  "kernelspec": {
   "display_name": "Python [default]",
   "language": "python",
   "name": "python3"
  },
  "language_info": {
   "codemirror_mode": {
    "name": "ipython",
    "version": 3
   },
   "file_extension": ".py",
   "mimetype": "text/x-python",
   "name": "python",
   "nbconvert_exporter": "python",
   "pygments_lexer": "ipython3",
   "version": "3.5.2"
  }
 },
 "nbformat": 4,
 "nbformat_minor": 1
}
