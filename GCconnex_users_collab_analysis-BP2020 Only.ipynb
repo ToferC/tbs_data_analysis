{
 "cells": [
  {
   "cell_type": "code",
   "execution_count": 1,
   "metadata": {
    "collapsed": false
   },
   "outputs": [],
   "source": [
    "import pandas as pd\n",
    "import pylab as pl\n",
    "import numpy as np\n",
    "import matplotlib.pyplot as plt\n",
    "import os\n",
    "import glob\n",
    "import re\n",
    "import networkx as nx\n",
    "import csv\n",
    "import json\n",
    "\n",
    "mpl_fig = plt.figure()"
   ]
  },
  {
   "cell_type": "code",
   "execution_count": null,
   "metadata": {
    "collapsed": false
   },
   "outputs": [],
   "source": []
  },
  {
   "cell_type": "code",
   "execution_count": 2,
   "metadata": {
    "collapsed": false
   },
   "outputs": [],
   "source": [
    "data_path = r\"C:/Users/Owner/Documents/Work_transfer/Data/GCconnex_collab/\"\n",
    "gephi_path = r\"C:/Users/Owner/Documents/Work_transfer/Gephi/GCconnex/\"\n",
    "bp_path = r\"C:/Users/Owner/Documents/Work_transfer/Data/GCconnex/\""
   ]
  },
  {
   "cell_type": "code",
   "execution_count": 3,
   "metadata": {
    "collapsed": false
   },
   "outputs": [],
   "source": [
    "dept_emails = []\n",
    "edges = []\n",
    "details = {}\n",
    "errors = []\n",
    "members = []"
   ]
  },
  {
   "cell_type": "code",
   "execution_count": 4,
   "metadata": {
    "collapsed": false
   },
   "outputs": [],
   "source": [
    "#Importing a dataset that contains solely BP2020 group members\n",
    "\n",
    "with open(os.path.join(bp_path+'BP2020 Users.csv'), \"r\") as f:\n",
    "    reader = csv.reader(f, delimiter = ',')\n",
    "    next(reader)\n",
    "\n",
    "    for row in reader:\n",
    "        guid = int(row[1])\n",
    "        members.append(guid)\n",
    "       "
   ]
  },
  {
   "cell_type": "markdown",
   "metadata": {
    "collapsed": false
   },
   "source": [
    "## Create Nodes from users"
   ]
  },
  {
   "cell_type": "code",
   "execution_count": 5,
   "metadata": {
    "collapsed": false
   },
   "outputs": [],
   "source": [
    "# Read CSV of UID and names and create nodes for each user\n",
    "\n",
    "with open(os.path.join(data_path+\"gcc_user_info_update_2015-09-03.csv\"), \"r\") as f:\n",
    "    reader = csv.reader(f, delimiter=',')\n",
    "    next(reader)\n",
    "\n",
    "    for row in reader:\n",
    "        uid, email, start_date = row\n",
    "        if uid in members:\n",
    "            ampersand = email.find(\"@\")\n",
    "            name = email[0:ampersand]\n",
    "            department = email[ampersand + 1:]\n",
    "            details[uid] = {'label':name, 'department':department, 'active': \"\", 'end': '01-09-2015', 'start': start_date}\n",
    "            dept_emails.append(department.lower())\n"
   ]
  },
  {
   "cell_type": "markdown",
   "metadata": {
    "collapsed": false
   },
   "source": [
    "### Clean & Filter Department Names"
   ]
  },
  {
   "cell_type": "code",
   "execution_count": 6,
   "metadata": {
    "collapsed": false
   },
   "outputs": [],
   "source": [
    "dept_emails = set(dept_emails)"
   ]
  },
  {
   "cell_type": "code",
   "execution_count": 7,
   "metadata": {
    "collapsed": false
   },
   "outputs": [],
   "source": [
    "dept_acr = [x.split('.') for x in dept_emails]"
   ]
  },
  {
   "cell_type": "code",
   "execution_count": 8,
   "metadata": {
    "collapsed": false
   },
   "outputs": [],
   "source": [
    "dept_acr = [x[0] for x in dept_acr]\n"
   ]
  },
  {
   "cell_type": "code",
   "execution_count": 9,
   "metadata": {
    "collapsed": false
   },
   "outputs": [],
   "source": [
    "dept_acr = set(dept_acr)"
   ]
  },
  {
   "cell_type": "code",
   "execution_count": 10,
   "metadata": {
    "collapsed": false
   },
   "outputs": [
    {
     "data": {
      "text/plain": [
       "set()"
      ]
     },
     "execution_count": 10,
     "metadata": {},
     "output_type": "execute_result"
    }
   ],
   "source": [
    "dept_acr"
   ]
  },
  {
   "cell_type": "code",
   "execution_count": 17,
   "metadata": {
    "collapsed": false
   },
   "outputs": [
    {
     "data": {
      "text/plain": [
       "5176"
      ]
     },
     "execution_count": 17,
     "metadata": {},
     "output_type": "execute_result"
    }
   ],
   "source": [
    "len(members)"
   ]
  },
  {
   "cell_type": "markdown",
   "metadata": {},
   "source": [
    "### Blogs"
   ]
  },
  {
   "cell_type": "code",
   "execution_count": 6,
   "metadata": {
    "collapsed": false
   },
   "outputs": [],
   "source": [
    "# Read CSV blogs and create edges for connections\n",
    "\n",
    "with open(data_path+\"gccResults_blogs.csv\", 'r') as f:\n",
    "    reader = csv.reader(f, delimiter=',')\n",
    "    next(reader)\n",
    "    \n",
    "    for row in reader:\n",
    "        if len(row) > 1:\n",
    "            blog_data = row[0].split(' ')\n",
    "            blog, author, date_created, extra = blog_data\n",
    "\n",
    "            for comment in row[1:]: # Get comments (2+ columns)\n",
    "                comment_data = comment.split()\n",
    "                blog, commenter, comment_date = comment_data\n",
    "                edges.append([commenter, author, comment_date, 'blog'])\n",
    "            "
   ]
  },
  {
   "cell_type": "code",
   "execution_count": 7,
   "metadata": {
    "collapsed": false
   },
   "outputs": [
    {
     "data": {
      "text/plain": [
       "\"for user in associations:\\n   for target in associations:\\n       if user != target:\\n           edges.append([user, target, date_created, 'blog'])\""
      ]
     },
     "execution_count": 7,
     "metadata": {},
     "output_type": "execute_result"
    }
   ],
   "source": [
    " # Users who comment on the same blog are associated with each other\n",
    "'''for user in associations:\n",
    "    for target in associations:\n",
    "        if user != target:\n",
    "            edges.append([user, target, date_created, 'blog'])'''\n",
    "            "
   ]
  },
  {
   "cell_type": "markdown",
   "metadata": {},
   "source": [
    "### Ideas"
   ]
  },
  {
   "cell_type": "code",
   "execution_count": 8,
   "metadata": {
    "collapsed": false
   },
   "outputs": [],
   "source": [
    "# Read CSV blogs and create edges for ideas\n",
    "\n",
    "with open(data_path+\"gccResults_ideas.csv\", 'r') as f:\n",
    "    reader = csv.reader(f, delimiter=',')\n",
    "    next(reader)\n",
    "    \n",
    "    for row in reader:\n",
    "        \n",
    "        if len(row) > 1:\n",
    "            idea_data = row[0].split(' ')\n",
    "            idea, author, date_created, extra = idea_data\n",
    "\n",
    "            for comment in row[1:]: # Get comments (2+ columns)\n",
    "                comment_data = comment.split()\n",
    "                comment_id, idea, commenter = comment_data\n",
    "                edges.append([commenter, author, date_created, 'idea'])\n",
    "            "
   ]
  },
  {
   "cell_type": "code",
   "execution_count": null,
   "metadata": {
    "collapsed": false
   },
   "outputs": [],
   "source": []
  },
  {
   "cell_type": "markdown",
   "metadata": {},
   "source": [
    "### Pages"
   ]
  },
  {
   "cell_type": "code",
   "execution_count": 9,
   "metadata": {
    "collapsed": false
   },
   "outputs": [],
   "source": [
    "# Read CSV blogs and create edges for pages\n",
    "\n",
    "with open(data_path+\"gccResults_pages.csv\", 'r') as f:\n",
    "    reader = csv.reader(f, delimiter=',')\n",
    "    next(reader)\n",
    "    \n",
    "    for row in reader:\n",
    "        if len(row) > 1:\n",
    "            page_data = row[0].split(' ')\n",
    "            page, author, date_created, extra = page_data\n",
    "\n",
    "            for comment in row[1:]: # Get comments (2+ columns)\n",
    "                comment_data = comment.split()\n",
    "                comment_id, page, commenter = comment_data\n",
    "                edges.append([commenter, author, date_created, 'page'])"
   ]
  },
  {
   "cell_type": "markdown",
   "metadata": {},
   "source": [
    "### Discussions"
   ]
  },
  {
   "cell_type": "code",
   "execution_count": 10,
   "metadata": {
    "collapsed": false
   },
   "outputs": [],
   "source": [
    "# Read CSV discussion and create edges for discussions\n",
    "\n",
    "with open(data_path+\"gccResults_topics.csv\", 'r') as f:\n",
    "    reader = csv.reader(f, delimiter=',')\n",
    "    next(reader)\n",
    "    \n",
    "    for row in reader:\n",
    "        if len(row) > 1:\n",
    "            discussion_data = row[0].split(' ')\n",
    "            discussion, author, date_created, extra = discussion_data\n",
    "\n",
    "            for comment in row[1:]: # Get comments (2+ columns)\n",
    "                comment_data = comment.split()\n",
    "                discussion, commenter, comment_date = comment_data\n",
    "                edges.append([commenter, author, comment_date, 'discussion'])"
   ]
  },
  {
   "cell_type": "code",
   "execution_count": 11,
   "metadata": {
    "collapsed": false
   },
   "outputs": [],
   "source": [
    "# Read CSV discussion and create edges for colleagues\n",
    "\n",
    "with open(data_path+\"gccResults_colleagues.csv\", 'r') as f:\n",
    "    reader = csv.reader(f, delimiter=',')\n",
    "    next(reader)\n",
    "    \n",
    "    for row in reader:\n",
    "        if len(row) > 1:\n",
    "            colleague_data = row[0].split(' ')\n",
    "            colleague = colleague_data[0]\n",
    "            email = colleague_data[1]\n",
    "\n",
    "            for c in row[1:]: # Get comments (2+ columns)\n",
    "                data = c.split()\n",
    "                source, target, date = data\n",
    "                edges.append([source, target, date, 'colleague'])"
   ]
  },
  {
   "cell_type": "code",
   "execution_count": 11,
   "metadata": {
    "collapsed": true
   },
   "outputs": [],
   "source": [
    "edge_dict = {}\n",
    "\n",
    "for e in edges:\n",
    "      if int(e[0]) in members and int(e[1]) in members and e[0] != e[1]:\n",
    "                try:\n",
    "                    edge_dict[\"{}, {}\".format(e[0], e[1])]['weight'] += 1\n",
    "                except KeyError:\n",
    "                    edge_dict[\"{}, {}\".format(e[0], e[1])] = {'source': e[0], 'target': e[1], 'weight': 1, 'date': e[2]}\n"
   ]
  },
  {
   "cell_type": "code",
   "execution_count": 9,
   "metadata": {
    "collapsed": true
   },
   "outputs": [],
   "source": [
    "# Combine multiple interactions into a single edge with weigth equal to the number of interactions\n",
    "\n",
    "edge_dict = {}\n",
    "\n",
    "for e in edges:\n",
    "    \n",
    "    # Remove references when people reply to their own creations\n",
    "    if e[0] == e[1]:\n",
    "        pass\n",
    "    else:\n",
    "        # Either add +1 weight for duplicate edges or create a new edge\n",
    "        try:\n",
    "            edge_dict[\"{}, {}\".format(e[0], e[1])]['weight'] += 1\n",
    "        except KeyError:\n",
    "            edge_dict[\"{}, {}\".format(e[0], e[1])] = {'source': e[0], 'target': e[1], 'weight': 1, 'date': e[2]}\n",
    "        "
   ]
  },
  {
   "cell_type": "code",
   "execution_count": null,
   "metadata": {
    "collapsed": false
   },
   "outputs": [],
   "source": []
  },
  {
   "cell_type": "code",
   "execution_count": 12,
   "metadata": {
    "collapsed": false
   },
   "outputs": [],
   "source": [
    "G=nx.DiGraph()"
   ]
  },
  {
   "cell_type": "code",
   "execution_count": 13,
   "metadata": {
    "collapsed": false
   },
   "outputs": [],
   "source": [
    "for k,v in details.items():\n",
    "    G.add_node(k, label=v['label'], department=v['department'], activity=v['active'], start=v['start'], end=v['end'])\n",
    "    \n",
    "for e in edge_dict:\n",
    "    G.add_edge(edge_dict[e]['source'], edge_dict[e]['target'], weight=edge_dict[e]['weight'], date=edge_dict[e]['date'])"
   ]
  },
  {
   "cell_type": "code",
   "execution_count": 14,
   "metadata": {
    "collapsed": false
   },
   "outputs": [
    {
     "data": {
      "text/plain": [
       "5059"
      ]
     },
     "execution_count": 14,
     "metadata": {},
     "output_type": "execute_result"
    }
   ],
   "source": [
    "len(edge_dict)"
   ]
  },
  {
   "cell_type": "code",
   "execution_count": null,
   "metadata": {
    "collapsed": false
   },
   "outputs": [],
   "source": []
  },
  {
   "cell_type": "code",
   "execution_count": null,
   "metadata": {
    "collapsed": false
   },
   "outputs": [],
   "source": []
  },
  {
   "cell_type": "code",
   "execution_count": null,
   "metadata": {
    "collapsed": true
   },
   "outputs": [],
   "source": []
  },
  {
   "cell_type": "code",
   "execution_count": 15,
   "metadata": {
    "collapsed": false
   },
   "outputs": [],
   "source": [
    "# Export to JSON format\n",
    "from networkx.readwrite import json_graph\n",
    "\n",
    "d = json_graph.node_link_data(G)\n",
    "json.dump(d, open('/Users/Owner/Documents/Work_transfer/Network Graph/force/GC_network_activity.json', 'w'))"
   ]
  },
  {
   "cell_type": "code",
   "execution_count": 16,
   "metadata": {
    "collapsed": true
   },
   "outputs": [],
   "source": [
    "# Write to Graphml format\n",
    "nx.write_graphml(G,gephi_path + \"GCconnex_BP2020_Users_idbp.graphml\")"
   ]
  },
  {
   "cell_type": "markdown",
   "metadata": {
    "collapsed": true
   },
   "source": [
    "### Now open up Gephi and play with your data!"
   ]
  },
  {
   "cell_type": "code",
   "execution_count": null,
   "metadata": {
    "collapsed": true
   },
   "outputs": [],
   "source": []
  }
 ],
 "metadata": {
  "kernelspec": {
   "display_name": "Python 3",
   "language": "python",
   "name": "python3"
  },
  "language_info": {
   "codemirror_mode": {
    "name": "ipython",
    "version": 3
   },
   "file_extension": ".py",
   "mimetype": "text/x-python",
   "name": "python",
   "nbconvert_exporter": "python",
   "pygments_lexer": "ipython3",
   "version": "3.4.3"
  }
 },
 "nbformat": 4,
 "nbformat_minor": 0
}
