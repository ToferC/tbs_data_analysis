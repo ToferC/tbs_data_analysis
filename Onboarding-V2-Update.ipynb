{
 "cells": [
  {
   "cell_type": "markdown",
   "metadata": {},
   "source": [
    "## Onboarding Impact Analysis"
   ]
  },
  {
   "cell_type": "code",
   "execution_count": null,
   "metadata": {
    "collapsed": true
   },
   "outputs": [],
   "source": [
    "import pandas as pd\n",
    "import numpy as np\n",
    "import matplotlib.pyplot as plt\n",
    "import seaborn as sns"
   ]
  },
  {
   "cell_type": "code",
   "execution_count": null,
   "metadata": {
    "collapsed": false
   },
   "outputs": [],
   "source": [
    "data_path = \"/Users/Owner/Documents/Work_transfer/CLSep/Onboarding Analysis/Onboarding Files update/\""
   ]
  },
  {
   "cell_type": "code",
   "execution_count": null,
   "metadata": {
    "collapsed": true
   },
   "outputs": [],
   "source": [
    "onboardcolumns = ['User', 'Onboard', 'Account.Created', 'Onboard.Time', 'Last.Action']\n",
    "comcolumns = ['User','Type', 'Comment.Time']\n",
    "colleaguescolumns = ['User', 'User2', 'Friend.Time']\n",
    "grpcolumns = ['User', 'Group', 'Join.Time']\n",
    "\n"
   ]
  },
  {
   "cell_type": "code",
   "execution_count": null,
   "metadata": {
    "collapsed": false
   },
   "outputs": [],
   "source": [
    "#Importing the four files that will be joined eventually\n",
    "\n",
    "ob = pd.read_csv(data_path+'Onboarding Messages and Users.csv', names = onboardcolumns)\n",
    "com = pd.read_csv(data_path+'Discussions Blogs.csv', names = comcolumns)\n",
    "col = pd.read_csv(data_path+'Colleague Counts.csv', names = colleaguescolumns)\n",
    "grp = pd.read_csv(data_path+'Groups.csv', names = grpcolumns)"
   ]
  },
  {
   "cell_type": "code",
   "execution_count": null,
   "metadata": {
    "collapsed": false
   },
   "outputs": [],
   "source": [
    "#How many people have created an account since the onboarding process?\n",
    "\n",
    "usercom = com.groupby('User', as_index = False).count()\n",
    "usercol = col.groupby('User', as_index = False).count()\n",
    "usergrp = grp.groupby('User', as_index = False).count()"
   ]
  },
  {
   "cell_type": "code",
   "execution_count": null,
   "metadata": {
    "collapsed": false
   },
   "outputs": [],
   "source": [
    "usercom = usercom.drop('Comment.Time',axis = 1)\n",
    "usercom.columns = ['User', 'Comments']\n",
    "usercol = usercol.drop('User2', axis = 1)\n",
    "usercol.columns = ['User', 'Colleagues']\n",
    "usergrp = usergrp.drop('Join.Time', axis  = 1)\n",
    "usergrp.columns = ['User', 'Groups']"
   ]
  },
  {
   "cell_type": "code",
   "execution_count": null,
   "metadata": {
    "collapsed": false
   },
   "outputs": [],
   "source": [
    "users = pd.merge(ob, usercom, how = 'outer')\n",
    "users = pd.merge(users, usercol, how = 'outer')\n",
    "users = pd.merge(users, usergrp, how = 'outer')"
   ]
  },
  {
   "cell_type": "code",
   "execution_count": null,
   "metadata": {
    "collapsed": false
   },
   "outputs": [],
   "source": [
    "users.head()\n",
    "onboarded = users[users['Onboard'] == 'true']"
   ]
  },
  {
   "cell_type": "code",
   "execution_count": null,
   "metadata": {
    "collapsed": false
   },
   "outputs": [],
   "source": [
    "ob.count()"
   ]
  },
  {
   "cell_type": "code",
   "execution_count": null,
   "metadata": {
    "collapsed": false
   },
   "outputs": [],
   "source": [
    "onboarded = onboarded.fillna(0)\n",
    "onboarded.tail()"
   ]
  },
  {
   "cell_type": "code",
   "execution_count": null,
   "metadata": {
    "collapsed": true
   },
   "outputs": [],
   "source": [
    "onboardedoncreation = onboarded[onboarded['Account.Created'] >= '2016-10-18']"
   ]
  },
  {
   "cell_type": "code",
   "execution_count": null,
   "metadata": {
    "collapsed": false
   },
   "outputs": [],
   "source": [
    "onboardedoncreation.describe()"
   ]
  },
  {
   "cell_type": "code",
   "execution_count": null,
   "metadata": {
    "collapsed": true
   },
   "outputs": [],
   "source": [
    "notonboarded = users[users['Onboard'] == 'passed']\n",
    "notonboarded = notonboarded.fillna(0)\n",
    "notonboardedoncreation = notonboarded[notonboarded['Account.Created'] >= '2016-10-18']"
   ]
  },
  {
   "cell_type": "code",
   "execution_count": null,
   "metadata": {
    "collapsed": false
   },
   "outputs": [],
   "source": [
    "notonboardedoncreation.describe()"
   ]
  },
  {
   "cell_type": "markdown",
   "metadata": {},
   "source": [
    "From averages, it looks like there hasn't been an impact on actual usage of onboarding process for people who create their account. Possible reasons for this is that maybe people who skip the onboarding process don't feel it necessary to be walked through the process.\n",
    "\n",
    "Also outliers. This is just a really quick look, and doesn't mean anything. Additionally, sample sizes are different"
   ]
  },
  {
   "cell_type": "code",
   "execution_count": null,
   "metadata": {
    "collapsed": false
   },
   "outputs": [],
   "source": [
    "notonboardedoncreation = notonboardedoncreation.reset_index()"
   ]
  },
  {
   "cell_type": "code",
   "execution_count": null,
   "metadata": {
    "collapsed": false
   },
   "outputs": [],
   "source": []
  },
  {
   "cell_type": "code",
   "execution_count": null,
   "metadata": {
    "collapsed": false
   },
   "outputs": [],
   "source": [
    "onboardedoncreation = onboardedoncreation.reset_index()"
   ]
  },
  {
   "cell_type": "code",
   "execution_count": null,
   "metadata": {
    "collapsed": false
   },
   "outputs": [],
   "source": [
    "#Visualizing how people who have joined since onboarding was implemented behave\n",
    "#There really isn't anything groundbreaking we can show here to be honest\n",
    "data = [onboardedoncreation['Groups'], notonboardedoncreation['Groups'],\n",
    "       onboardedoncreation['Comments'], notonboardedoncreation['Comments'],\n",
    "       onboardedoncreation['Colleagues'], notonboardedoncreation['Colleagues']]\n",
    "\n",
    "\n",
    "\n",
    "xaxes = ['Groups','Groups', 'Comments', 'Comments', 'Colleagues', 'Colleagues']\n",
    "yaxes = ['Frequency','Frequency', 'Frequency','Frequency','Frequency','Frequency']\n",
    "titles = ['Groups Joined Users Onboarded','Groups Joined Users Not Onboarded',\n",
    "         'Comments  Users Onboarded','Comments  Users Not Onboarded',\n",
    "         'Colleagues Added Users Onboarded','Colleagues Added Users Not Onboarded'] \n",
    "\n",
    "f,a = plt.subplots(3,2)\n",
    "a = a.ravel()\n",
    "for idx,ax in enumerate(a):\n",
    "    ax.hist(data[idx])\n",
    "    ax.set_title(titles[idx])\n",
    "    ax.set_xlabel(xaxes[idx])\n",
    "    ax.set_ylabel(yaxes[idx])\n",
    "plt.tight_layout()\n",
    "plt.show()"
   ]
  },
  {
   "cell_type": "code",
   "execution_count": null,
   "metadata": {
    "collapsed": false
   },
   "outputs": [],
   "source": [
    "users = users.fillna(0)"
   ]
  },
  {
   "cell_type": "code",
   "execution_count": null,
   "metadata": {
    "collapsed": true
   },
   "outputs": [],
   "source": [
    "def zubat(x):\n",
    "        if type(x) == str:\n",
    "            return 2\n",
    "        else:\n",
    "            return x\n",
    "        \n"
   ]
  },
  {
   "cell_type": "code",
   "execution_count": null,
   "metadata": {
    "collapsed": false
   },
   "outputs": [],
   "source": [
    "users['Onboard'][users['Onboard'] == 'passed'] = 0\n",
    "users['Onboard'][users['Onboard'] == 'true'] = 1\n",
    "users['Onboard'] = users['Onboard'].apply(zubat)"
   ]
  },
  {
   "cell_type": "code",
   "execution_count": null,
   "metadata": {
    "collapsed": false
   },
   "outputs": [],
   "source": [
    "#Only 5416 people have been exposed to the onboarding process. Kind of throws off our numbers a bit"
   ]
  },
  {
   "cell_type": "code",
   "execution_count": null,
   "metadata": {
    "collapsed": false
   },
   "outputs": [],
   "source": []
  },
  {
   "cell_type": "code",
   "execution_count": null,
   "metadata": {
    "collapsed": false
   },
   "outputs": [],
   "source": [
    "users = users[users['Account.Created'] != 0]\n",
    "users.describe()\n"
   ]
  },
  {
   "cell_type": "code",
   "execution_count": null,
   "metadata": {
    "collapsed": false
   },
   "outputs": [],
   "source": [
    "def separator(x):\n",
    "    if x >= '2016-10-18':\n",
    "        return 1\n",
    "    else:\n",
    "        return 0\n",
    "    \n"
   ]
  },
  {
   "cell_type": "code",
   "execution_count": null,
   "metadata": {
    "collapsed": false
   },
   "outputs": [],
   "source": [
    "users['CreateAfterOnboarding'] = users['Account.Created'].apply(separator)"
   ]
  },
  {
   "cell_type": "code",
   "execution_count": null,
   "metadata": {
    "collapsed": false
   },
   "outputs": [],
   "source": []
  },
  {
   "cell_type": "code",
   "execution_count": null,
   "metadata": {
    "collapsed": false
   },
   "outputs": [],
   "source": []
  },
  {
   "cell_type": "markdown",
   "metadata": {
    "collapsed": true
   },
   "source": [
    "users0 = users[users['Onboard'] == 0]\n",
    "users1 = users[users['Onboard'] == 1]\n",
    "users2 = users[users['Onboard'] == 2]"
   ]
  },
  {
   "cell_type": "markdown",
   "metadata": {
    "collapsed": false
   },
   "source": [
    "from sklearn import linear_model"
   ]
  },
  {
   "cell_type": "markdown",
   "metadata": {
    "collapsed": false
   },
   "source": [
    "u0_x = users.drop(['User', 'Onboard', 'Onboard.Time', 'Last.Action', 'Account.Created'], axis = 1)\n",
    "u0_y = users['Onboard']\n",
    "\n",
    "clf0 = linear_model.LinearRegression()\n",
    "clf0.fit(u0_x, u0_y)\n",
    "print (clf0.coef_)"
   ]
  },
  {
   "cell_type": "markdown",
   "metadata": {
    "collapsed": false
   },
   "source": [
    "regression_frame = users"
   ]
  },
  {
   "cell_type": "markdown",
   "metadata": {
    "collapsed": true
   },
   "source": [
    "regression_frame['Onboard*Create'] = regression_frame['Onboard']*regression_frame['CreateBeforeOnboarding']"
   ]
  },
  {
   "cell_type": "markdown",
   "metadata": {
    "collapsed": false
   },
   "source": [
    "def interactioner(x):\n",
    "    return x*regression_frame['CreateBeforeOnboarding']\n",
    "\n",
    "regression_frame['Comments*Create'] = regression_frame['Comments']*regression_frame['CreateBeforeOnboarding']\n",
    "regression_frame['Colleagues*Create'] = regression_frame['Colleagues']*regression_frame['CreateBeforeOnboarding']\n",
    "regression_frame['Groups*Create'] = regression_frame['Groups']*regression_frame['CreateBeforeOnboarding']"
   ]
  },
  {
   "cell_type": "markdown",
   "metadata": {
    "collapsed": false
   },
   "source": [
    "regression_frame.head()"
   ]
  },
  {
   "cell_type": "code",
   "execution_count": null,
   "metadata": {
    "collapsed": true
   },
   "outputs": [],
   "source": [
    "create_rf = users[users['CreateAfterOnboarding'] == 1]"
   ]
  },
  {
   "cell_type": "markdown",
   "metadata": {
    "collapsed": false
   },
   "source": [
    "create_rf_y_grp = create_rf['Groups']\n",
    "create_rf_x_grp = create_rf['Onboard']\n",
    "\n",
    "\n",
    "clf_grp = linear_model.LinearRegression()\n",
    "clf_grp.fit(create_rf_x_grp.reshape(len(create_rf_x_grp), 1), create_rf_y_grp)\n",
    "print (clf_grp.coef_)"
   ]
  },
  {
   "cell_type": "code",
   "execution_count": null,
   "metadata": {
    "collapsed": false
   },
   "outputs": [],
   "source": [
    "create_rf.describe()"
   ]
  },
  {
   "cell_type": "code",
   "execution_count": null,
   "metadata": {
    "collapsed": true
   },
   "outputs": [],
   "source": [
    "import statsmodels.formula.api as sm"
   ]
  },
  {
   "cell_type": "markdown",
   "metadata": {
    "collapsed": false
   },
   "source": [
    "result = sm.OLS(create_rf_y_grp, create_rf_x_grp).fit()\n",
    "result.summary()"
   ]
  },
  {
   "cell_type": "code",
   "execution_count": null,
   "metadata": {
    "collapsed": false
   },
   "outputs": [],
   "source": [
    "results_1 = sm.ols('Groups ~ C(Onboard)', data = create_rf).fit()\n",
    "results_2 = sm.ols('Comments ~ C(Onboard)', data = create_rf).fit()\n",
    "results_3 = sm.ols('Colleagues ~ C(Onboard)', data = create_rf).fit()\n",
    "\n",
    "print (results_1.summary())\n",
    "print (results_2.summary())\n",
    "print (results_3.summary())"
   ]
  },
  {
   "cell_type": "code",
   "execution_count": null,
   "metadata": {
    "collapsed": false
   },
   "outputs": [],
   "source": [
    "#Need to control for time\n",
    "\n",
    "create_rf['Account.Created'] = pd.to_datetime(create_rf['Account.Created'], format = '%Y-%m-%d')"
   ]
  },
  {
   "cell_type": "code",
   "execution_count": null,
   "metadata": {
    "collapsed": false
   },
   "outputs": [],
   "source": [
    "create_rf['Time'] = pd.to_datetime('2016-10-28', format = '%Y-%m-%d') - create_rf['Account.Created']"
   ]
  },
  {
   "cell_type": "code",
   "execution_count": null,
   "metadata": {
    "collapsed": false
   },
   "outputs": [],
   "source": [
    "create_rf['Time'] = (create_rf['Time']/np.timedelta64(1,'D')).astype(int)"
   ]
  },
  {
   "cell_type": "code",
   "execution_count": null,
   "metadata": {
    "collapsed": false
   },
   "outputs": [],
   "source": [
    "#Seems like there just isn't enough variation in the observations to do anything\n",
    "\n",
    "results_1 = sm.ols('Groups ~ C(Onboard) + Time', data = create_rf).fit()\n",
    "results_2 = sm.ols('Comments ~ C(Onboard) + Time', data = create_rf).fit()\n",
    "results_3 = sm.ols('Colleagues ~ C(Onboard) + Time', data = create_rf).fit()\n",
    "\n",
    "print (results_1.summary())\n",
    "print (results_2.summary())\n",
    "print (results_3.summary())"
   ]
  },
  {
   "cell_type": "markdown",
   "metadata": {},
   "source": [
    "Regression Analysis doesn't says that there is no real statistical difference that onboarding makes in the activity of groups colleagues and comments.\n",
    "\n",
    "It's not really that surprising. A better metric would be to see if they feel more comfortable with the page, and maybe how often they log on. But we can't match Google Analytics data anyway"
   ]
  },
  {
   "cell_type": "code",
   "execution_count": null,
   "metadata": {
    "collapsed": false
   },
   "outputs": [],
   "source": [
    "#Seems like there just isn't enough variation in the observations to do anything\n",
    "\n",
    "results_1 = sm.ols('Groups ~ C(Onboard) + Time', data = create_rf).fit()\n",
    "results_2 = sm.ols('Comments ~ C(Onboard) + Time', data = create_rf).fit()\n",
    "results_3 = sm.ols('Colleagues ~ C(Onboard) + Time', data = create_rf).fit()\n",
    "\n",
    "print (results_1.summary())\n",
    "print (results_2.summary())\n",
    "print (results_3.summary())"
   ]
  },
  {
   "cell_type": "code",
   "execution_count": null,
   "metadata": {
    "collapsed": false
   },
   "outputs": [],
   "source": [
    "create_rf.describe()"
   ]
  },
  {
   "cell_type": "markdown",
   "metadata": {
    "collapsed": true
   },
   "source": [
    " There's one last thing that we can look at to gain more evidence of the Onboarding process being effective\n",
    " It's statistically a little more straight forward, and it's fun.\n",
    "\n",
    " Compare three groups of people: \n",
    "#1 People who made their account one week before the onboarding process\n",
    "#2 People who made their account when onboarding was launched and went through with it\n",
    "#3 People who made their account when onboarding was launched and did not go through with it\n",
    "\n",
    "By identifying the average metrics of the first week for people who have joined a week before Onboarding, and then calculating the average metrics for people made their account after onboarding was a thing, we can identify (with some sort of error) whether or not we see people who have gone through onboarding \n"
   ]
  },
  {
   "cell_type": "code",
   "execution_count": null,
   "metadata": {
    "collapsed": false
   },
   "outputs": [],
   "source": [
    "#First there's more cleaning to do. In order to caputre the effects in the first week for people who have onboarded and not\n",
    "#We'll have to redo the user datasets for those doing before and after\n",
    "#First for before\n",
    "\n",
    "ob_b = ob[(ob['Account.Created'] >= '2016-10-12') & (ob['Account.Created'] < '2016-10-19')]\n",
    "ob_b.describe()"
   ]
  },
  {
   "cell_type": "code",
   "execution_count": null,
   "metadata": {
    "collapsed": false
   },
   "outputs": [],
   "source": [
    "\n",
    "datejoin = users.groupby(users['Account.Created']).count().reset_index()\n",
    "datejoin['Account.Created'] = pd.to_datetime(datejoin['Account.Created'], format = '%Y-%m-%d')\n",
    "\n",
    "\n"
   ]
  },
  {
   "cell_type": "code",
   "execution_count": null,
   "metadata": {
    "collapsed": false
   },
   "outputs": [],
   "source": [
    "#This graph is incorrect, and gives a misleading conclusion, butI like the code in it so I'm keeping it\n",
    "\n",
    "\n",
    "import matplotlib.dates as mdates\n",
    "datejoin2015 = datejoin[datejoin['Account.Created'] >= '2015-01-01']\n",
    "\n",
    "\n",
    "fig, ax = plt.subplots()\n",
    "ax.plot(datejoin2015['Account.Created'], datejoin2015['User'])\n",
    "\n",
    "\n",
    "\n",
    "years = mdates.YearLocator()\n",
    "months = mdates.MonthLocator()\n",
    "days = mdates.DayLocator()\n",
    "Fmt = mdates.DateFormatter('%Y-%m')\n",
    "\n",
    "\n",
    "ax.xaxis.set_major_locator(months)\n",
    "ax.xaxis.set_minor_locator(days)\n",
    "ax.xaxis.set_major_formatter(Fmt)\n",
    "\n",
    "plt.title('GCconnex Registrations per Day')\n",
    "plt.xlabel('Date')\n",
    "plt.ylabel('Registrations')\n",
    "\n",
    "\n",
    "\n",
    "plt.annotate('Onboarding and Career Connexions', xy=('2016-10-19', 100), xytext=('2015-08-01', 60),\n",
    "            arrowprops = dict(facecolor='red', shrink = 0.05))\n",
    "\n",
    "fig.autofmt_xdate()\n",
    "\n",
    "#plt.show()\n"
   ]
  },
  {
   "cell_type": "code",
   "execution_count": null,
   "metadata": {
    "collapsed": false
   },
   "outputs": [],
   "source": [
    "users.describe()"
   ]
  },
  {
   "cell_type": "code",
   "execution_count": null,
   "metadata": {
    "collapsed": false
   },
   "outputs": [],
   "source": [
    "ob_b = ob[ob['Account Created'] == '2016-10-12']\n",
    "com \n",
    "col \n",
    "grp\n",
    "\n",
    "\n",
    "\n",
    "usercom = com.groupby('User', as_index = False).count()\n",
    "usercol = col.groupby('User', as_index = False).count()\n",
    "usergrp = grp.groupby('User', as_index = False).count()"
   ]
  },
  {
   "cell_type": "code",
   "execution_count": null,
   "metadata": {
    "collapsed": false
   },
   "outputs": [],
   "source": []
  },
  {
   "cell_type": "code",
   "execution_count": null,
   "metadata": {
    "collapsed": true
   },
   "outputs": [],
   "source": []
  }
 ],
 "metadata": {
  "kernelspec": {
   "display_name": "Python 3",
   "language": "python",
   "name": "python3"
  },
  "language_info": {
   "codemirror_mode": {
    "name": "ipython",
    "version": 3
   },
   "file_extension": ".py",
   "mimetype": "text/x-python",
   "name": "python",
   "nbconvert_exporter": "python",
   "pygments_lexer": "ipython3",
   "version": "3.4.5"
  }
 },
 "nbformat": 4,
 "nbformat_minor": 0
}
