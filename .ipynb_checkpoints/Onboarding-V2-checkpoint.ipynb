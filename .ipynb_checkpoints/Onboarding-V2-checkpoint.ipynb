{
 "cells": [
  {
   "cell_type": "markdown",
   "metadata": {},
   "source": [
    "## Onboarding Impact Analysis"
   ]
  },
  {
   "cell_type": "code",
   "execution_count": 1,
   "metadata": {
    "collapsed": true
   },
   "outputs": [],
   "source": [
    "import pandas as pd\n",
    "import numpy as np\n",
    "import matplotlib.pyplot as plt\n",
    "import seaborn as sns"
   ]
  },
  {
   "cell_type": "code",
   "execution_count": 2,
   "metadata": {
    "collapsed": false
   },
   "outputs": [],
   "source": [
    "data_path = \"/Users/Owner/Documents/Work_transfer/CLSep/Onboarding Analysis/Onboarding Data/\""
   ]
  },
  {
   "cell_type": "code",
   "execution_count": 3,
   "metadata": {
    "collapsed": true
   },
   "outputs": [],
   "source": [
    "onboardcolumns = ['User', 'Onboard', 'Account.Created', 'Onboard.Time', 'Last.Action']\n",
    "comcolumns = ['User','Type', 'Comment.Time']\n",
    "colleaguescolumns = ['User', 'User2', 'Friend.Time']\n",
    "grpcolumns = ['User', 'Group', 'Join.Time']\n",
    "\n"
   ]
  },
  {
   "cell_type": "code",
   "execution_count": 4,
   "metadata": {
    "collapsed": false
   },
   "outputs": [],
   "source": [
    "#Importing the four files that will be joined eventually\n",
    "\n",
    "ob = pd.read_csv(data_path+'Onboarding Messages and Users.csv', names = onboardcolumns)\n",
    "com = pd.read_csv(data_path+'Discussions Blogs.csv', names = comcolumns)\n",
    "col = pd.read_csv(data_path+'Colleague Counts.csv', names = colleaguescolumns)\n",
    "grp = pd.read_csv(data_path+'Groups.csv', names = grpcolumns)"
   ]
  },
  {
   "cell_type": "code",
   "execution_count": 5,
   "metadata": {
    "collapsed": false
   },
   "outputs": [],
   "source": [
    "#How many people have created an account since the onboarding process?\n",
    "\n",
    "usercom = com.groupby('User', as_index = False).count()\n",
    "usercol = col.groupby('User', as_index = False).count()\n",
    "usergrp = grp.groupby('User', as_index = False).count()"
   ]
  },
  {
   "cell_type": "code",
   "execution_count": 6,
   "metadata": {
    "collapsed": false
   },
   "outputs": [],
   "source": [
    "usercom = usercom.drop('Comment.Time',axis = 1)\n",
    "usercom.columns = ['User', 'Comments']\n",
    "usercol = usercol.drop('User2', axis = 1)\n",
    "usercol.columns = ['User', 'Colleagues']\n",
    "usergrp = usergrp.drop('Join.Time', axis  = 1)\n",
    "usergrp.columns = ['User', 'Groups']"
   ]
  },
  {
   "cell_type": "code",
   "execution_count": 7,
   "metadata": {
    "collapsed": false
   },
   "outputs": [],
   "source": [
    "users = pd.merge(ob, usercom, how = 'outer')\n",
    "users = pd.merge(users, usercol, how = 'outer')\n",
    "users = pd.merge(users, usergrp, how = 'outer')"
   ]
  },
  {
   "cell_type": "code",
   "execution_count": 8,
   "metadata": {
    "collapsed": false
   },
   "outputs": [],
   "source": [
    "users.head()\n",
    "onboarded = users[users['Onboard'] == 'true']"
   ]
  },
  {
   "cell_type": "code",
   "execution_count": 9,
   "metadata": {
    "collapsed": false
   },
   "outputs": [
    {
     "data": {
      "text/plain": [
       "User               5416\n",
       "Onboard            5416\n",
       "Account.Created    5416\n",
       "Onboard.Time       5416\n",
       "Last.Action        5416\n",
       "dtype: int64"
      ]
     },
     "execution_count": 9,
     "metadata": {},
     "output_type": "execute_result"
    }
   ],
   "source": [
    "ob.count()"
   ]
  },
  {
   "cell_type": "code",
   "execution_count": 10,
   "metadata": {
    "collapsed": false
   },
   "outputs": [
    {
     "data": {
      "text/html": [
       "<div>\n",
       "<table border=\"1\" class=\"dataframe\">\n",
       "  <thead>\n",
       "    <tr style=\"text-align: right;\">\n",
       "      <th></th>\n",
       "      <th>User</th>\n",
       "      <th>Onboard</th>\n",
       "      <th>Account.Created</th>\n",
       "      <th>Onboard.Time</th>\n",
       "      <th>Last.Action</th>\n",
       "      <th>Comments</th>\n",
       "      <th>Colleagues</th>\n",
       "      <th>Groups</th>\n",
       "    </tr>\n",
       "  </thead>\n",
       "  <tbody>\n",
       "    <tr>\n",
       "      <th>5391</th>\n",
       "      <td>19879834</td>\n",
       "      <td>true</td>\n",
       "      <td>2016-03-18</td>\n",
       "      <td>2016-10-28</td>\n",
       "      <td>2016-03-18</td>\n",
       "      <td>0</td>\n",
       "      <td>0</td>\n",
       "      <td>3</td>\n",
       "    </tr>\n",
       "    <tr>\n",
       "      <th>5395</th>\n",
       "      <td>23814834</td>\n",
       "      <td>true</td>\n",
       "      <td>2016-10-28</td>\n",
       "      <td>2016-10-28</td>\n",
       "      <td>2016-10-28</td>\n",
       "      <td>0</td>\n",
       "      <td>0</td>\n",
       "      <td>1</td>\n",
       "    </tr>\n",
       "    <tr>\n",
       "      <th>5400</th>\n",
       "      <td>834686</td>\n",
       "      <td>true</td>\n",
       "      <td>2013-07-29</td>\n",
       "      <td>2016-10-28</td>\n",
       "      <td>2016-09-16</td>\n",
       "      <td>1</td>\n",
       "      <td>64</td>\n",
       "      <td>34</td>\n",
       "    </tr>\n",
       "    <tr>\n",
       "      <th>5403</th>\n",
       "      <td>6188649</td>\n",
       "      <td>true</td>\n",
       "      <td>2014-09-30</td>\n",
       "      <td>2016-10-28</td>\n",
       "      <td>2016-06-14</td>\n",
       "      <td>0</td>\n",
       "      <td>3</td>\n",
       "      <td>5</td>\n",
       "    </tr>\n",
       "    <tr>\n",
       "      <th>5405</th>\n",
       "      <td>4665274</td>\n",
       "      <td>true</td>\n",
       "      <td>2014-05-09</td>\n",
       "      <td>2016-10-28</td>\n",
       "      <td>2016-10-28</td>\n",
       "      <td>0</td>\n",
       "      <td>16</td>\n",
       "      <td>4</td>\n",
       "    </tr>\n",
       "  </tbody>\n",
       "</table>\n",
       "</div>"
      ],
      "text/plain": [
       "          User Onboard Account.Created Onboard.Time Last.Action  Comments  \\\n",
       "5391  19879834    true      2016-03-18   2016-10-28  2016-03-18         0   \n",
       "5395  23814834    true      2016-10-28   2016-10-28  2016-10-28         0   \n",
       "5400    834686    true      2013-07-29   2016-10-28  2016-09-16         1   \n",
       "5403   6188649    true      2014-09-30   2016-10-28  2016-06-14         0   \n",
       "5405   4665274    true      2014-05-09   2016-10-28  2016-10-28         0   \n",
       "\n",
       "      Colleagues  Groups  \n",
       "5391           0       3  \n",
       "5395           0       1  \n",
       "5400          64      34  \n",
       "5403           3       5  \n",
       "5405          16       4  "
      ]
     },
     "execution_count": 10,
     "metadata": {},
     "output_type": "execute_result"
    }
   ],
   "source": [
    "onboarded = onboarded.fillna(0)\n",
    "onboarded.tail()"
   ]
  },
  {
   "cell_type": "code",
   "execution_count": 11,
   "metadata": {
    "collapsed": true
   },
   "outputs": [],
   "source": [
    "onboardedoncreation = onboarded[onboarded['Account.Created'] >= '2016-10-18']"
   ]
  },
  {
   "cell_type": "code",
   "execution_count": 12,
   "metadata": {
    "collapsed": false
   },
   "outputs": [
    {
     "data": {
      "text/html": [
       "<div>\n",
       "<table border=\"1\" class=\"dataframe\">\n",
       "  <thead>\n",
       "    <tr style=\"text-align: right;\">\n",
       "      <th></th>\n",
       "      <th>User</th>\n",
       "      <th>Comments</th>\n",
       "      <th>Colleagues</th>\n",
       "      <th>Groups</th>\n",
       "    </tr>\n",
       "  </thead>\n",
       "  <tbody>\n",
       "    <tr>\n",
       "      <th>count</th>\n",
       "      <td>297.000000</td>\n",
       "      <td>297.000000</td>\n",
       "      <td>297.000000</td>\n",
       "      <td>297.000000</td>\n",
       "    </tr>\n",
       "    <tr>\n",
       "      <th>mean</th>\n",
       "      <td>23682491.006734</td>\n",
       "      <td>0.013468</td>\n",
       "      <td>0.373737</td>\n",
       "      <td>1.646465</td>\n",
       "    </tr>\n",
       "    <tr>\n",
       "      <th>std</th>\n",
       "      <td>65591.156446</td>\n",
       "      <td>0.115462</td>\n",
       "      <td>0.968272</td>\n",
       "      <td>1.141773</td>\n",
       "    </tr>\n",
       "    <tr>\n",
       "      <th>min</th>\n",
       "      <td>23534414.000000</td>\n",
       "      <td>0.000000</td>\n",
       "      <td>0.000000</td>\n",
       "      <td>0.000000</td>\n",
       "    </tr>\n",
       "    <tr>\n",
       "      <th>25%</th>\n",
       "      <td>23630767.000000</td>\n",
       "      <td>0.000000</td>\n",
       "      <td>0.000000</td>\n",
       "      <td>1.000000</td>\n",
       "    </tr>\n",
       "    <tr>\n",
       "      <th>50%</th>\n",
       "      <td>23673019.000000</td>\n",
       "      <td>0.000000</td>\n",
       "      <td>0.000000</td>\n",
       "      <td>1.000000</td>\n",
       "    </tr>\n",
       "    <tr>\n",
       "      <th>75%</th>\n",
       "      <td>23728192.000000</td>\n",
       "      <td>0.000000</td>\n",
       "      <td>0.000000</td>\n",
       "      <td>2.000000</td>\n",
       "    </tr>\n",
       "    <tr>\n",
       "      <th>max</th>\n",
       "      <td>23814834.000000</td>\n",
       "      <td>1.000000</td>\n",
       "      <td>6.000000</td>\n",
       "      <td>7.000000</td>\n",
       "    </tr>\n",
       "  </tbody>\n",
       "</table>\n",
       "</div>"
      ],
      "text/plain": [
       "                  User    Comments  Colleagues      Groups\n",
       "count       297.000000  297.000000  297.000000  297.000000\n",
       "mean   23682491.006734    0.013468    0.373737    1.646465\n",
       "std       65591.156446    0.115462    0.968272    1.141773\n",
       "min    23534414.000000    0.000000    0.000000    0.000000\n",
       "25%    23630767.000000    0.000000    0.000000    1.000000\n",
       "50%    23673019.000000    0.000000    0.000000    1.000000\n",
       "75%    23728192.000000    0.000000    0.000000    2.000000\n",
       "max    23814834.000000    1.000000    6.000000    7.000000"
      ]
     },
     "execution_count": 12,
     "metadata": {},
     "output_type": "execute_result"
    }
   ],
   "source": [
    "onboardedoncreation.describe()"
   ]
  },
  {
   "cell_type": "code",
   "execution_count": 13,
   "metadata": {
    "collapsed": true
   },
   "outputs": [],
   "source": [
    "notonboarded = users[users['Onboard'] == 'passed']\n",
    "notonboarded = notonboarded.fillna(0)\n",
    "notonboardedoncreation = notonboarded[notonboarded['Account.Created'] >= '2016-10-18']"
   ]
  },
  {
   "cell_type": "code",
   "execution_count": 14,
   "metadata": {
    "collapsed": false
   },
   "outputs": [
    {
     "data": {
      "text/html": [
       "<div>\n",
       "<table border=\"1\" class=\"dataframe\">\n",
       "  <thead>\n",
       "    <tr style=\"text-align: right;\">\n",
       "      <th></th>\n",
       "      <th>User</th>\n",
       "      <th>Comments</th>\n",
       "      <th>Colleagues</th>\n",
       "      <th>Groups</th>\n",
       "    </tr>\n",
       "  </thead>\n",
       "  <tbody>\n",
       "    <tr>\n",
       "      <th>count</th>\n",
       "      <td>134.000000</td>\n",
       "      <td>134.000000</td>\n",
       "      <td>134.000000</td>\n",
       "      <td>134.000000</td>\n",
       "    </tr>\n",
       "    <tr>\n",
       "      <th>mean</th>\n",
       "      <td>23681587.395522</td>\n",
       "      <td>0.029851</td>\n",
       "      <td>0.402985</td>\n",
       "      <td>1.634328</td>\n",
       "    </tr>\n",
       "    <tr>\n",
       "      <th>std</th>\n",
       "      <td>70480.002051</td>\n",
       "      <td>0.272562</td>\n",
       "      <td>1.343989</td>\n",
       "      <td>1.259795</td>\n",
       "    </tr>\n",
       "    <tr>\n",
       "      <th>min</th>\n",
       "      <td>23533414.000000</td>\n",
       "      <td>0.000000</td>\n",
       "      <td>0.000000</td>\n",
       "      <td>0.000000</td>\n",
       "    </tr>\n",
       "    <tr>\n",
       "      <th>25%</th>\n",
       "      <td>23631322.250000</td>\n",
       "      <td>0.000000</td>\n",
       "      <td>0.000000</td>\n",
       "      <td>1.000000</td>\n",
       "    </tr>\n",
       "    <tr>\n",
       "      <th>50%</th>\n",
       "      <td>23670245.500000</td>\n",
       "      <td>0.000000</td>\n",
       "      <td>0.000000</td>\n",
       "      <td>1.000000</td>\n",
       "    </tr>\n",
       "    <tr>\n",
       "      <th>75%</th>\n",
       "      <td>23740584.500000</td>\n",
       "      <td>0.000000</td>\n",
       "      <td>0.000000</td>\n",
       "      <td>2.000000</td>\n",
       "    </tr>\n",
       "    <tr>\n",
       "      <th>max</th>\n",
       "      <td>23815270.000000</td>\n",
       "      <td>3.000000</td>\n",
       "      <td>9.000000</td>\n",
       "      <td>10.000000</td>\n",
       "    </tr>\n",
       "  </tbody>\n",
       "</table>\n",
       "</div>"
      ],
      "text/plain": [
       "                  User    Comments  Colleagues      Groups\n",
       "count       134.000000  134.000000  134.000000  134.000000\n",
       "mean   23681587.395522    0.029851    0.402985    1.634328\n",
       "std       70480.002051    0.272562    1.343989    1.259795\n",
       "min    23533414.000000    0.000000    0.000000    0.000000\n",
       "25%    23631322.250000    0.000000    0.000000    1.000000\n",
       "50%    23670245.500000    0.000000    0.000000    1.000000\n",
       "75%    23740584.500000    0.000000    0.000000    2.000000\n",
       "max    23815270.000000    3.000000    9.000000   10.000000"
      ]
     },
     "execution_count": 14,
     "metadata": {},
     "output_type": "execute_result"
    }
   ],
   "source": [
    "notonboardedoncreation.describe()"
   ]
  },
  {
   "cell_type": "markdown",
   "metadata": {},
   "source": [
    "From averages, it looks like there hasn't been an impact on actual usage of onboarding process for people who create their account. Possible reasons for this is that maybe people who skip the onboarding process don't feel it necessary to be walked through the process.\n",
    "\n",
    "Also outliers. This is just a really quick look, and doesn't mean anything. Additionally, sample sizes are different"
   ]
  },
  {
   "cell_type": "code",
   "execution_count": 15,
   "metadata": {
    "collapsed": false
   },
   "outputs": [],
   "source": [
    "notonboardedoncreation = notonboardedoncreation.reset_index()"
   ]
  },
  {
   "cell_type": "code",
   "execution_count": null,
   "metadata": {
    "collapsed": false
   },
   "outputs": [],
   "source": []
  },
  {
   "cell_type": "code",
   "execution_count": 16,
   "metadata": {
    "collapsed": false
   },
   "outputs": [],
   "source": [
    "onboardedoncreation = onboardedoncreation.reset_index()\n",
    "notonboardedoncreat = notonboardedoncreation.reset_index()"
   ]
  },
  {
   "cell_type": "code",
   "execution_count": 17,
   "metadata": {
    "collapsed": false
   },
   "outputs": [],
   "source": [
    "#Visualizing how people who have joined since onboarding was implemented behave\n",
    "#There really isn't anything groundbreaking we can show here to be honest\n",
    "data = [onboardedoncreation['Groups'], notonboardedoncreation['Groups'],\n",
    "       onboardedoncreation['Comments'], notonboardedoncreation['Comments'],\n",
    "       onboardedoncreation['Colleagues'], notonboardedoncreation['Colleagues']]\n",
    "\n",
    "\n",
    "\n",
    "xaxes = ['Groups','Groups', 'Comments', 'Comments', 'Colleagues', 'Colleagues']\n",
    "yaxes = ['Frequency','Frequency', 'Frequency','Frequency','Frequency','Frequency']\n",
    "titles = ['Groups Joined Users Onboarded','Groups Joined Users Not Onboarded',\n",
    "         'Comments  Users Onboarded','Comments  Users Not Onboarded',\n",
    "         'Colleagues Added Users Onboarded','Colleagues Added Users Not Onboarded'] \n",
    "\n",
    "f,a = plt.subplots(3,2)\n",
    "a = a.ravel()\n",
    "for idx,ax in enumerate(a):\n",
    "    ax.hist(data[idx])\n",
    "    ax.set_title(titles[idx])\n",
    "    ax.set_xlabel(xaxes[idx])\n",
    "    ax.set_ylabel(yaxes[idx])\n",
    "plt.tight_layout()\n",
    "plt.show()"
   ]
  },
  {
   "cell_type": "code",
   "execution_count": 18,
   "metadata": {
    "collapsed": false
   },
   "outputs": [],
   "source": [
    "users = users.fillna(0)"
   ]
  },
  {
   "cell_type": "code",
   "execution_count": 19,
   "metadata": {
    "collapsed": true
   },
   "outputs": [],
   "source": [
    "def zubat(x):\n",
    "        if type(x) == str:\n",
    "            return 2\n",
    "        else:\n",
    "            return x\n",
    "        \n"
   ]
  },
  {
   "cell_type": "code",
   "execution_count": 20,
   "metadata": {
    "collapsed": false
   },
   "outputs": [
    {
     "name": "stderr",
     "output_type": "stream",
     "text": [
      "C:\\Users\\Owner\\Anaconda3\\lib\\site-packages\\ipykernel\\__main__.py:1: SettingWithCopyWarning: \n",
      "A value is trying to be set on a copy of a slice from a DataFrame\n",
      "\n",
      "See the the caveats in the documentation: http://pandas.pydata.org/pandas-docs/stable/indexing.html#indexing-view-versus-copy\n",
      "  if __name__ == '__main__':\n",
      "C:\\Users\\Owner\\Anaconda3\\lib\\site-packages\\ipykernel\\__main__.py:2: SettingWithCopyWarning: \n",
      "A value is trying to be set on a copy of a slice from a DataFrame\n",
      "\n",
      "See the the caveats in the documentation: http://pandas.pydata.org/pandas-docs/stable/indexing.html#indexing-view-versus-copy\n",
      "  from ipykernel import kernelapp as app\n"
     ]
    }
   ],
   "source": [
    "users['Onboard'][users['Onboard'] == 'passed'] = 0\n",
    "users['Onboard'][users['Onboard'] == 'true'] = 1\n",
    "users['Onboard'] = users['Onboard'].apply(zubat)"
   ]
  },
  {
   "cell_type": "code",
   "execution_count": 21,
   "metadata": {
    "collapsed": false
   },
   "outputs": [],
   "source": [
    "#Only 5416 people have been exposed to the onboarding process. Kind of throws off our numbers a bit"
   ]
  },
  {
   "cell_type": "code",
   "execution_count": null,
   "metadata": {
    "collapsed": false
   },
   "outputs": [],
   "source": []
  },
  {
   "cell_type": "code",
   "execution_count": 22,
   "metadata": {
    "collapsed": false
   },
   "outputs": [
    {
     "data": {
      "text/html": [
       "<div>\n",
       "<table border=\"1\" class=\"dataframe\">\n",
       "  <thead>\n",
       "    <tr style=\"text-align: right;\">\n",
       "      <th></th>\n",
       "      <th>User</th>\n",
       "      <th>Onboard</th>\n",
       "      <th>Comments</th>\n",
       "      <th>Colleagues</th>\n",
       "      <th>Groups</th>\n",
       "    </tr>\n",
       "  </thead>\n",
       "  <tbody>\n",
       "    <tr>\n",
       "      <th>count</th>\n",
       "      <td>5416.000000</td>\n",
       "      <td>5416.000000</td>\n",
       "      <td>5416.000000</td>\n",
       "      <td>5416.000000</td>\n",
       "      <td>5416.000000</td>\n",
       "    </tr>\n",
       "    <tr>\n",
       "      <th>mean</th>\n",
       "      <td>12459925.707164</td>\n",
       "      <td>1.292836</td>\n",
       "      <td>1.715473</td>\n",
       "      <td>11.140879</td>\n",
       "      <td>6.722120</td>\n",
       "    </tr>\n",
       "    <tr>\n",
       "      <th>std</th>\n",
       "      <td>8794428.035131</td>\n",
       "      <td>0.846432</td>\n",
       "      <td>9.816926</td>\n",
       "      <td>37.098107</td>\n",
       "      <td>10.183658</td>\n",
       "    </tr>\n",
       "    <tr>\n",
       "      <th>min</th>\n",
       "      <td>6.000000</td>\n",
       "      <td>0.000000</td>\n",
       "      <td>0.000000</td>\n",
       "      <td>0.000000</td>\n",
       "      <td>0.000000</td>\n",
       "    </tr>\n",
       "    <tr>\n",
       "      <th>25%</th>\n",
       "      <td>4320210.000000</td>\n",
       "      <td>0.000000</td>\n",
       "      <td>0.000000</td>\n",
       "      <td>0.000000</td>\n",
       "      <td>1.000000</td>\n",
       "    </tr>\n",
       "    <tr>\n",
       "      <th>50%</th>\n",
       "      <td>12460378.000000</td>\n",
       "      <td>2.000000</td>\n",
       "      <td>0.000000</td>\n",
       "      <td>2.000000</td>\n",
       "      <td>3.000000</td>\n",
       "    </tr>\n",
       "    <tr>\n",
       "      <th>75%</th>\n",
       "      <td>21422112.750000</td>\n",
       "      <td>2.000000</td>\n",
       "      <td>0.000000</td>\n",
       "      <td>10.000000</td>\n",
       "      <td>8.000000</td>\n",
       "    </tr>\n",
       "    <tr>\n",
       "      <th>max</th>\n",
       "      <td>23815270.000000</td>\n",
       "      <td>2.000000</td>\n",
       "      <td>324.000000</td>\n",
       "      <td>1176.000000</td>\n",
       "      <td>140.000000</td>\n",
       "    </tr>\n",
       "  </tbody>\n",
       "</table>\n",
       "</div>"
      ],
      "text/plain": [
       "                  User      Onboard     Comments   Colleagues       Groups\n",
       "count      5416.000000  5416.000000  5416.000000  5416.000000  5416.000000\n",
       "mean   12459925.707164     1.292836     1.715473    11.140879     6.722120\n",
       "std     8794428.035131     0.846432     9.816926    37.098107    10.183658\n",
       "min           6.000000     0.000000     0.000000     0.000000     0.000000\n",
       "25%     4320210.000000     0.000000     0.000000     0.000000     1.000000\n",
       "50%    12460378.000000     2.000000     0.000000     2.000000     3.000000\n",
       "75%    21422112.750000     2.000000     0.000000    10.000000     8.000000\n",
       "max    23815270.000000     2.000000   324.000000  1176.000000   140.000000"
      ]
     },
     "execution_count": 22,
     "metadata": {},
     "output_type": "execute_result"
    }
   ],
   "source": [
    "users = users[users['Account.Created'] != 0]\n",
    "users.describe()"
   ]
  },
  {
   "cell_type": "code",
   "execution_count": 23,
   "metadata": {
    "collapsed": false
   },
   "outputs": [],
   "source": [
    "def separator(x):\n",
    "    if x >= '2016-10-18':\n",
    "        return 1\n",
    "    else:\n",
    "        return 0\n",
    "    \n"
   ]
  },
  {
   "cell_type": "code",
   "execution_count": 24,
   "metadata": {
    "collapsed": false
   },
   "outputs": [],
   "source": [
    "users['CreateBeforeOnboarding'] = users['Account.Created'].apply(separator)"
   ]
  },
  {
   "cell_type": "code",
   "execution_count": 25,
   "metadata": {
    "collapsed": false
   },
   "outputs": [
    {
     "data": {
      "text/html": [
       "<div>\n",
       "<table border=\"1\" class=\"dataframe\">\n",
       "  <thead>\n",
       "    <tr style=\"text-align: right;\">\n",
       "      <th></th>\n",
       "      <th>User</th>\n",
       "      <th>Onboard</th>\n",
       "      <th>Comments</th>\n",
       "      <th>Colleagues</th>\n",
       "      <th>Groups</th>\n",
       "      <th>CreateBeforeOnboarding</th>\n",
       "    </tr>\n",
       "  </thead>\n",
       "  <tbody>\n",
       "    <tr>\n",
       "      <th>count</th>\n",
       "      <td>5416.000000</td>\n",
       "      <td>5416.000000</td>\n",
       "      <td>5416.000000</td>\n",
       "      <td>5416.000000</td>\n",
       "      <td>5416.000000</td>\n",
       "      <td>5416.000000</td>\n",
       "    </tr>\n",
       "    <tr>\n",
       "      <th>mean</th>\n",
       "      <td>12459925.707164</td>\n",
       "      <td>1.292836</td>\n",
       "      <td>1.715473</td>\n",
       "      <td>11.140879</td>\n",
       "      <td>6.722120</td>\n",
       "      <td>0.144202</td>\n",
       "    </tr>\n",
       "    <tr>\n",
       "      <th>std</th>\n",
       "      <td>8794428.035131</td>\n",
       "      <td>0.846432</td>\n",
       "      <td>9.816926</td>\n",
       "      <td>37.098107</td>\n",
       "      <td>10.183658</td>\n",
       "      <td>0.351327</td>\n",
       "    </tr>\n",
       "    <tr>\n",
       "      <th>min</th>\n",
       "      <td>6.000000</td>\n",
       "      <td>0.000000</td>\n",
       "      <td>0.000000</td>\n",
       "      <td>0.000000</td>\n",
       "      <td>0.000000</td>\n",
       "      <td>0.000000</td>\n",
       "    </tr>\n",
       "    <tr>\n",
       "      <th>25%</th>\n",
       "      <td>4320210.000000</td>\n",
       "      <td>0.000000</td>\n",
       "      <td>0.000000</td>\n",
       "      <td>0.000000</td>\n",
       "      <td>1.000000</td>\n",
       "      <td>0.000000</td>\n",
       "    </tr>\n",
       "    <tr>\n",
       "      <th>50%</th>\n",
       "      <td>12460378.000000</td>\n",
       "      <td>2.000000</td>\n",
       "      <td>0.000000</td>\n",
       "      <td>2.000000</td>\n",
       "      <td>3.000000</td>\n",
       "      <td>0.000000</td>\n",
       "    </tr>\n",
       "    <tr>\n",
       "      <th>75%</th>\n",
       "      <td>21422112.750000</td>\n",
       "      <td>2.000000</td>\n",
       "      <td>0.000000</td>\n",
       "      <td>10.000000</td>\n",
       "      <td>8.000000</td>\n",
       "      <td>0.000000</td>\n",
       "    </tr>\n",
       "    <tr>\n",
       "      <th>max</th>\n",
       "      <td>23815270.000000</td>\n",
       "      <td>2.000000</td>\n",
       "      <td>324.000000</td>\n",
       "      <td>1176.000000</td>\n",
       "      <td>140.000000</td>\n",
       "      <td>1.000000</td>\n",
       "    </tr>\n",
       "  </tbody>\n",
       "</table>\n",
       "</div>"
      ],
      "text/plain": [
       "                  User      Onboard     Comments   Colleagues       Groups  \\\n",
       "count      5416.000000  5416.000000  5416.000000  5416.000000  5416.000000   \n",
       "mean   12459925.707164     1.292836     1.715473    11.140879     6.722120   \n",
       "std     8794428.035131     0.846432     9.816926    37.098107    10.183658   \n",
       "min           6.000000     0.000000     0.000000     0.000000     0.000000   \n",
       "25%     4320210.000000     0.000000     0.000000     0.000000     1.000000   \n",
       "50%    12460378.000000     2.000000     0.000000     2.000000     3.000000   \n",
       "75%    21422112.750000     2.000000     0.000000    10.000000     8.000000   \n",
       "max    23815270.000000     2.000000   324.000000  1176.000000   140.000000   \n",
       "\n",
       "       CreateBeforeOnboarding  \n",
       "count             5416.000000  \n",
       "mean                 0.144202  \n",
       "std                  0.351327  \n",
       "min                  0.000000  \n",
       "25%                  0.000000  \n",
       "50%                  0.000000  \n",
       "75%                  0.000000  \n",
       "max                  1.000000  "
      ]
     },
     "execution_count": 25,
     "metadata": {},
     "output_type": "execute_result"
    }
   ],
   "source": [
    "users.describe()"
   ]
  },
  {
   "cell_type": "code",
   "execution_count": null,
   "metadata": {
    "collapsed": false
   },
   "outputs": [],
   "source": []
  },
  {
   "cell_type": "code",
   "execution_count": 26,
   "metadata": {
    "collapsed": true
   },
   "outputs": [],
   "source": [
    "users0 = users[users['Onboard'] == 0]\n",
    "users1 = users[users['Onboard'] == 1]\n",
    "users2 = users[users['Onboard'] == 2]"
   ]
  },
  {
   "cell_type": "code",
   "execution_count": 27,
   "metadata": {
    "collapsed": false
   },
   "outputs": [],
   "source": [
    "from sklearn import linear_model"
   ]
  },
  {
   "cell_type": "code",
   "execution_count": 28,
   "metadata": {
    "collapsed": false
   },
   "outputs": [
    {
     "name": "stdout",
     "output_type": "stream",
     "text": [
      "[-0.00042583 -0.0001708  -0.00212614 -0.03489531]\n"
     ]
    }
   ],
   "source": [
    "u0_x = users.drop(['User', 'Onboard', 'Onboard.Time', 'Last.Action', 'Account.Created'], axis = 1)\n",
    "u0_y = users['Onboard']\n",
    "\n",
    "clf0 = linear_model.LinearRegression()\n",
    "clf0.fit(u0_x, u0_y)\n",
    "print (clf0.coef_)"
   ]
  },
  {
   "cell_type": "code",
   "execution_count": 29,
   "metadata": {
    "collapsed": false
   },
   "outputs": [],
   "source": [
    "regression_frame = users"
   ]
  },
  {
   "cell_type": "code",
   "execution_count": 30,
   "metadata": {
    "collapsed": true
   },
   "outputs": [],
   "source": [
    "regression_frame['Onboard*Create'] = regression_frame['Onboard']*regression_frame['CreateBeforeOnboarding']"
   ]
  },
  {
   "cell_type": "code",
   "execution_count": 31,
   "metadata": {
    "collapsed": false
   },
   "outputs": [],
   "source": [
    "def interactioner(x):\n",
    "    return x*regression_frame['CreateBeforeOnboarding']\n",
    "\n",
    "regression_frame['Comments*Create'] = regression_frame['Comments']*regression_frame['CreateBeforeOnboarding']\n",
    "regression_frame['Colleagues*Create'] = regression_frame['Colleagues']*regression_frame['CreateBeforeOnboarding']\n",
    "regression_frame['Groups*Create'] = regression_frame['Groups']*regression_frame['CreateBeforeOnboarding']"
   ]
  },
  {
   "cell_type": "code",
   "execution_count": 32,
   "metadata": {
    "collapsed": false
   },
   "outputs": [
    {
     "data": {
      "text/html": [
       "<div>\n",
       "<table border=\"1\" class=\"dataframe\">\n",
       "  <thead>\n",
       "    <tr style=\"text-align: right;\">\n",
       "      <th></th>\n",
       "      <th>User</th>\n",
       "      <th>Onboard</th>\n",
       "      <th>Account.Created</th>\n",
       "      <th>Onboard.Time</th>\n",
       "      <th>Last.Action</th>\n",
       "      <th>Comments</th>\n",
       "      <th>Colleagues</th>\n",
       "      <th>Groups</th>\n",
       "      <th>CreateBeforeOnboarding</th>\n",
       "      <th>Onboard*Create</th>\n",
       "      <th>Comments*Create</th>\n",
       "      <th>Colleagues*Create</th>\n",
       "      <th>Groups*Create</th>\n",
       "    </tr>\n",
       "  </thead>\n",
       "  <tbody>\n",
       "    <tr>\n",
       "      <th>0</th>\n",
       "      <td>2839</td>\n",
       "      <td>1</td>\n",
       "      <td>2009-05-20</td>\n",
       "      <td>2016-10-18</td>\n",
       "      <td>2016-09-19</td>\n",
       "      <td>4</td>\n",
       "      <td>51</td>\n",
       "      <td>17</td>\n",
       "      <td>0</td>\n",
       "      <td>0</td>\n",
       "      <td>0</td>\n",
       "      <td>0</td>\n",
       "      <td>0</td>\n",
       "    </tr>\n",
       "    <tr>\n",
       "      <th>1</th>\n",
       "      <td>12509067</td>\n",
       "      <td>2</td>\n",
       "      <td>2015-06-15</td>\n",
       "      <td>2016-10-18</td>\n",
       "      <td>2016-10-27</td>\n",
       "      <td>0</td>\n",
       "      <td>99</td>\n",
       "      <td>9</td>\n",
       "      <td>0</td>\n",
       "      <td>0</td>\n",
       "      <td>0</td>\n",
       "      <td>0</td>\n",
       "      <td>0</td>\n",
       "    </tr>\n",
       "    <tr>\n",
       "      <th>2</th>\n",
       "      <td>16860392</td>\n",
       "      <td>2</td>\n",
       "      <td>2015-12-02</td>\n",
       "      <td>2016-10-18</td>\n",
       "      <td>2015-12-06</td>\n",
       "      <td>0</td>\n",
       "      <td>1</td>\n",
       "      <td>0</td>\n",
       "      <td>0</td>\n",
       "      <td>0</td>\n",
       "      <td>0</td>\n",
       "      <td>0</td>\n",
       "      <td>0</td>\n",
       "    </tr>\n",
       "    <tr>\n",
       "      <th>3</th>\n",
       "      <td>4275280</td>\n",
       "      <td>0</td>\n",
       "      <td>2014-03-07</td>\n",
       "      <td>2016-10-19</td>\n",
       "      <td>2016-10-28</td>\n",
       "      <td>25</td>\n",
       "      <td>34</td>\n",
       "      <td>19</td>\n",
       "      <td>0</td>\n",
       "      <td>0</td>\n",
       "      <td>0</td>\n",
       "      <td>0</td>\n",
       "      <td>0</td>\n",
       "    </tr>\n",
       "    <tr>\n",
       "      <th>4</th>\n",
       "      <td>4275270</td>\n",
       "      <td>1</td>\n",
       "      <td>2014-03-07</td>\n",
       "      <td>2016-10-19</td>\n",
       "      <td>2016-10-26</td>\n",
       "      <td>4</td>\n",
       "      <td>35</td>\n",
       "      <td>10</td>\n",
       "      <td>0</td>\n",
       "      <td>0</td>\n",
       "      <td>0</td>\n",
       "      <td>0</td>\n",
       "      <td>0</td>\n",
       "    </tr>\n",
       "  </tbody>\n",
       "</table>\n",
       "</div>"
      ],
      "text/plain": [
       "       User  Onboard Account.Created Onboard.Time Last.Action  Comments  \\\n",
       "0      2839        1      2009-05-20   2016-10-18  2016-09-19         4   \n",
       "1  12509067        2      2015-06-15   2016-10-18  2016-10-27         0   \n",
       "2  16860392        2      2015-12-02   2016-10-18  2015-12-06         0   \n",
       "3   4275280        0      2014-03-07   2016-10-19  2016-10-28        25   \n",
       "4   4275270        1      2014-03-07   2016-10-19  2016-10-26         4   \n",
       "\n",
       "   Colleagues  Groups  CreateBeforeOnboarding  Onboard*Create  \\\n",
       "0          51      17                       0               0   \n",
       "1          99       9                       0               0   \n",
       "2           1       0                       0               0   \n",
       "3          34      19                       0               0   \n",
       "4          35      10                       0               0   \n",
       "\n",
       "   Comments*Create  Colleagues*Create  Groups*Create  \n",
       "0                0                  0              0  \n",
       "1                0                  0              0  \n",
       "2                0                  0              0  \n",
       "3                0                  0              0  \n",
       "4                0                  0              0  "
      ]
     },
     "execution_count": 32,
     "metadata": {},
     "output_type": "execute_result"
    }
   ],
   "source": [
    "regression_frame.head()"
   ]
  },
  {
   "cell_type": "code",
   "execution_count": 33,
   "metadata": {
    "collapsed": true
   },
   "outputs": [],
   "source": [
    "create_rf = regression_frame[regression_frame['CreateBeforeOnboarding'] == 1]"
   ]
  },
  {
   "cell_type": "code",
   "execution_count": 40,
   "metadata": {
    "collapsed": false
   },
   "outputs": [
    {
     "name": "stdout",
     "output_type": "stream",
     "text": [
      "[-0.13878762]\n"
     ]
    }
   ],
   "source": [
    "create_rf_y_grp = create_rf['Groups']\n",
    "create_rf_x_grp = create_rf['Onboard']\n",
    "\n",
    "\n",
    "clf_grp = linear_model.LinearRegression()\n",
    "clf_grp.fit(create_rf_x_grp.reshape(len(create_rf_x_grp), 1), create_rf_y_grp)\n",
    "print (clf_grp.coef_)"
   ]
  },
  {
   "cell_type": "code",
   "execution_count": 53,
   "metadata": {
    "collapsed": false
   },
   "outputs": [
    {
     "data": {
      "text/html": [
       "<div>\n",
       "<table border=\"1\" class=\"dataframe\">\n",
       "  <thead>\n",
       "    <tr style=\"text-align: right;\">\n",
       "      <th></th>\n",
       "      <th>User</th>\n",
       "      <th>Onboard</th>\n",
       "      <th>Account.Created</th>\n",
       "      <th>Onboard.Time</th>\n",
       "      <th>Last.Action</th>\n",
       "      <th>Comments</th>\n",
       "      <th>Colleagues</th>\n",
       "      <th>Groups</th>\n",
       "      <th>CreateBeforeOnboarding</th>\n",
       "      <th>Onboard*Create</th>\n",
       "      <th>Comments*Create</th>\n",
       "      <th>Colleagues*Create</th>\n",
       "      <th>Groups*Create</th>\n",
       "    </tr>\n",
       "  </thead>\n",
       "  <tbody>\n",
       "    <tr>\n",
       "      <th>14</th>\n",
       "      <td>23595485</td>\n",
       "      <td>1</td>\n",
       "      <td>2016-10-19</td>\n",
       "      <td>2016-10-19</td>\n",
       "      <td>2016-10-19</td>\n",
       "      <td>0</td>\n",
       "      <td>0</td>\n",
       "      <td>0</td>\n",
       "      <td>1</td>\n",
       "      <td>1</td>\n",
       "      <td>0</td>\n",
       "      <td>0</td>\n",
       "      <td>0</td>\n",
       "    </tr>\n",
       "    <tr>\n",
       "      <th>19</th>\n",
       "      <td>23595498</td>\n",
       "      <td>1</td>\n",
       "      <td>2016-10-19</td>\n",
       "      <td>2016-10-19</td>\n",
       "      <td>2016-10-19</td>\n",
       "      <td>0</td>\n",
       "      <td>0</td>\n",
       "      <td>1</td>\n",
       "      <td>1</td>\n",
       "      <td>1</td>\n",
       "      <td>0</td>\n",
       "      <td>0</td>\n",
       "      <td>1</td>\n",
       "    </tr>\n",
       "    <tr>\n",
       "      <th>38</th>\n",
       "      <td>23595528</td>\n",
       "      <td>1</td>\n",
       "      <td>2016-10-19</td>\n",
       "      <td>2016-10-19</td>\n",
       "      <td>2016-10-19</td>\n",
       "      <td>0</td>\n",
       "      <td>0</td>\n",
       "      <td>0</td>\n",
       "      <td>1</td>\n",
       "      <td>1</td>\n",
       "      <td>0</td>\n",
       "      <td>0</td>\n",
       "      <td>0</td>\n",
       "    </tr>\n",
       "    <tr>\n",
       "      <th>45</th>\n",
       "      <td>23595339</td>\n",
       "      <td>2</td>\n",
       "      <td>2016-10-18</td>\n",
       "      <td>2016-10-19</td>\n",
       "      <td>2016-10-18</td>\n",
       "      <td>0</td>\n",
       "      <td>0</td>\n",
       "      <td>0</td>\n",
       "      <td>1</td>\n",
       "      <td>2</td>\n",
       "      <td>0</td>\n",
       "      <td>0</td>\n",
       "      <td>0</td>\n",
       "    </tr>\n",
       "    <tr>\n",
       "      <th>46</th>\n",
       "      <td>23595547</td>\n",
       "      <td>2</td>\n",
       "      <td>2016-10-19</td>\n",
       "      <td>2016-10-19</td>\n",
       "      <td>2016-10-19</td>\n",
       "      <td>0</td>\n",
       "      <td>0</td>\n",
       "      <td>0</td>\n",
       "      <td>1</td>\n",
       "      <td>2</td>\n",
       "      <td>0</td>\n",
       "      <td>0</td>\n",
       "      <td>0</td>\n",
       "    </tr>\n",
       "  </tbody>\n",
       "</table>\n",
       "</div>"
      ],
      "text/plain": [
       "        User  Onboard Account.Created Onboard.Time Last.Action  Comments  \\\n",
       "14  23595485        1      2016-10-19   2016-10-19  2016-10-19         0   \n",
       "19  23595498        1      2016-10-19   2016-10-19  2016-10-19         0   \n",
       "38  23595528        1      2016-10-19   2016-10-19  2016-10-19         0   \n",
       "45  23595339        2      2016-10-18   2016-10-19  2016-10-18         0   \n",
       "46  23595547        2      2016-10-19   2016-10-19  2016-10-19         0   \n",
       "\n",
       "    Colleagues  Groups  CreateBeforeOnboarding  Onboard*Create  \\\n",
       "14           0       0                       1               1   \n",
       "19           0       1                       1               1   \n",
       "38           0       0                       1               1   \n",
       "45           0       0                       1               2   \n",
       "46           0       0                       1               2   \n",
       "\n",
       "    Comments*Create  Colleagues*Create  Groups*Create  \n",
       "14                0                  0              0  \n",
       "19                0                  0              1  \n",
       "38                0                  0              0  \n",
       "45                0                  0              0  \n",
       "46                0                  0              0  "
      ]
     },
     "execution_count": 53,
     "metadata": {},
     "output_type": "execute_result"
    }
   ],
   "source": [
    "create_rf.head()"
   ]
  },
  {
   "cell_type": "code",
   "execution_count": 42,
   "metadata": {
    "collapsed": true
   },
   "outputs": [],
   "source": [
    "import statsmodels.formula.api as sm"
   ]
  },
  {
   "cell_type": "code",
   "execution_count": 45,
   "metadata": {
    "collapsed": false
   },
   "outputs": [
    {
     "data": {
      "text/html": [
       "<table class=\"simpletable\">\n",
       "<caption>OLS Regression Results</caption>\n",
       "<tr>\n",
       "  <th>Dep. Variable:</th>         <td>Groups</td>      <th>  R-squared:         </th> <td>   0.467</td> \n",
       "</tr>\n",
       "<tr>\n",
       "  <th>Model:</th>                   <td>OLS</td>       <th>  Adj. R-squared:    </th> <td>   0.467</td> \n",
       "</tr>\n",
       "<tr>\n",
       "  <th>Method:</th>             <td>Least Squares</td>  <th>  F-statistic:       </th> <td>   684.3</td> \n",
       "</tr>\n",
       "<tr>\n",
       "  <th>Date:</th>             <td>Wed, 02 Nov 2016</td> <th>  Prob (F-statistic):</th> <td>8.80e-109</td>\n",
       "</tr>\n",
       "<tr>\n",
       "  <th>Time:</th>                 <td>10:02:42</td>     <th>  Log-Likelihood:    </th> <td> -1351.8</td> \n",
       "</tr>\n",
       "<tr>\n",
       "  <th>No. Observations:</th>      <td>   781</td>      <th>  AIC:               </th> <td>   2706.</td> \n",
       "</tr>\n",
       "<tr>\n",
       "  <th>Df Residuals:</th>          <td>   780</td>      <th>  BIC:               </th> <td>   2710.</td> \n",
       "</tr>\n",
       "<tr>\n",
       "  <th>Df Model:</th>              <td>     1</td>      <th>                     </th>     <td> </td>    \n",
       "</tr>\n",
       "<tr>\n",
       "  <th>Covariance Type:</th>      <td>nonrobust</td>    <th>                     </th>     <td> </td>    \n",
       "</tr>\n",
       "</table>\n",
       "<table class=\"simpletable\">\n",
       "<tr>\n",
       "     <td></td>        <th>coef</th>     <th>std err</th>      <th>t</th>      <th>P>|t|</th> <th>[95.0% Conf. Int.]</th> \n",
       "</tr>\n",
       "<tr>\n",
       "  <th>Onboard</th> <td>    0.8680</td> <td>    0.033</td> <td>   26.159</td> <td> 0.000</td> <td>    0.803     0.933</td>\n",
       "</tr>\n",
       "</table>\n",
       "<table class=\"simpletable\">\n",
       "<tr>\n",
       "  <th>Omnibus:</th>       <td>312.255</td> <th>  Durbin-Watson:     </th> <td>   1.749</td>\n",
       "</tr>\n",
       "<tr>\n",
       "  <th>Prob(Omnibus):</th> <td> 0.000</td>  <th>  Jarque-Bera (JB):  </th> <td>1631.058</td>\n",
       "</tr>\n",
       "<tr>\n",
       "  <th>Skew:</th>          <td> 1.754</td>  <th>  Prob(JB):          </th> <td>    0.00</td>\n",
       "</tr>\n",
       "<tr>\n",
       "  <th>Kurtosis:</th>      <td> 9.150</td>  <th>  Cond. No.          </th> <td>    1.00</td>\n",
       "</tr>\n",
       "</table>"
      ],
      "text/plain": [
       "<class 'statsmodels.iolib.summary.Summary'>\n",
       "\"\"\"\n",
       "                            OLS Regression Results                            \n",
       "==============================================================================\n",
       "Dep. Variable:                 Groups   R-squared:                       0.467\n",
       "Model:                            OLS   Adj. R-squared:                  0.467\n",
       "Method:                 Least Squares   F-statistic:                     684.3\n",
       "Date:                Wed, 02 Nov 2016   Prob (F-statistic):          8.80e-109\n",
       "Time:                        10:02:42   Log-Likelihood:                -1351.8\n",
       "No. Observations:                 781   AIC:                             2706.\n",
       "Df Residuals:                     780   BIC:                             2710.\n",
       "Df Model:                           1                                         \n",
       "Covariance Type:            nonrobust                                         \n",
       "==============================================================================\n",
       "                 coef    std err          t      P>|t|      [95.0% Conf. Int.]\n",
       "------------------------------------------------------------------------------\n",
       "Onboard        0.8680      0.033     26.159      0.000         0.803     0.933\n",
       "==============================================================================\n",
       "Omnibus:                      312.255   Durbin-Watson:                   1.749\n",
       "Prob(Omnibus):                  0.000   Jarque-Bera (JB):             1631.058\n",
       "Skew:                           1.754   Prob(JB):                         0.00\n",
       "Kurtosis:                       9.150   Cond. No.                         1.00\n",
       "==============================================================================\n",
       "\n",
       "Warnings:\n",
       "[1] Standard Errors assume that the covariance matrix of the errors is correctly specified.\n",
       "\"\"\""
      ]
     },
     "execution_count": 45,
     "metadata": {},
     "output_type": "execute_result"
    }
   ],
   "source": [
    "result = sm.OLS(create_rf_y_grp, create_rf_x_grp).fit()\n",
    "result.summary()"
   ]
  },
  {
   "cell_type": "code",
   "execution_count": 52,
   "metadata": {
    "collapsed": false
   },
   "outputs": [
    {
     "name": "stdout",
     "output_type": "stream",
     "text": [
      "                            OLS Regression Results                            \n",
      "==============================================================================\n",
      "Dep. Variable:                 Groups   R-squared:                       0.009\n",
      "Model:                            OLS   Adj. R-squared:                  0.008\n",
      "Method:                 Least Squares   F-statistic:                     7.201\n",
      "Date:                Wed, 02 Nov 2016   Prob (F-statistic):            0.00744\n",
      "Time:                        10:10:17   Log-Likelihood:                -1156.6\n",
      "No. Observations:                 781   AIC:                             2317.\n",
      "Df Residuals:                     779   BIC:                             2326.\n",
      "Df Model:                           1                                         \n",
      "Covariance Type:            nonrobust                                         \n",
      "==============================================================================\n",
      "                 coef    std err          t      P>|t|      [95.0% Conf. Int.]\n",
      "------------------------------------------------------------------------------\n",
      "Intercept      1.7137      0.076     22.478      0.000         1.564     1.863\n",
      "Onboard       -0.1388      0.052     -2.683      0.007        -0.240    -0.037\n",
      "==============================================================================\n",
      "Omnibus:                      457.166   Durbin-Watson:                   1.941\n",
      "Prob(Omnibus):                  0.000   Jarque-Bera (JB):             4272.478\n",
      "Skew:                           2.530   Prob(JB):                         0.00\n",
      "Kurtosis:                      13.280   Cond. No.                         4.06\n",
      "==============================================================================\n",
      "\n",
      "Warnings:\n",
      "[1] Standard Errors assume that the covariance matrix of the errors is correctly specified.\n",
      "                            OLS Regression Results                            \n",
      "==============================================================================\n",
      "Dep. Variable:               Comments   R-squared:                       0.001\n",
      "Model:                            OLS   Adj. R-squared:                  0.000\n",
      "Method:                 Least Squares   F-statistic:                     1.022\n",
      "Date:                Wed, 02 Nov 2016   Prob (F-statistic):              0.312\n",
      "Time:                        10:10:17   Log-Likelihood:                 327.06\n",
      "No. Observations:                 781   AIC:                            -650.1\n",
      "Df Residuals:                     779   BIC:                            -640.8\n",
      "Df Model:                           1                                         \n",
      "Covariance Type:            nonrobust                                         \n",
      "==============================================================================\n",
      "                 coef    std err          t      P>|t|      [95.0% Conf. Int.]\n",
      "------------------------------------------------------------------------------\n",
      "Intercept      0.0254      0.011      2.223      0.027         0.003     0.048\n",
      "Onboard       -0.0078      0.008     -1.011      0.312        -0.023     0.007\n",
      "==============================================================================\n",
      "Omnibus:                     1457.091   Durbin-Watson:                   2.022\n",
      "Prob(Omnibus):                  0.000   Jarque-Bera (JB):          1291251.365\n",
      "Skew:                          12.972   Prob(JB):                         0.00\n",
      "Kurtosis:                     200.502   Cond. No.                         4.06\n",
      "==============================================================================\n",
      "\n",
      "Warnings:\n",
      "[1] Standard Errors assume that the covariance matrix of the errors is correctly specified.\n",
      "                            OLS Regression Results                            \n",
      "==============================================================================\n",
      "Dep. Variable:             Colleagues   R-squared:                       0.003\n",
      "Model:                            OLS   Adj. R-squared:                  0.002\n",
      "Method:                 Least Squares   F-statistic:                     2.293\n",
      "Date:                Wed, 02 Nov 2016   Prob (F-statistic):              0.130\n",
      "Time:                        10:10:17   Log-Likelihood:                -1135.8\n",
      "No. Observations:                 781   AIC:                             2276.\n",
      "Df Residuals:                     779   BIC:                             2285.\n",
      "Df Model:                           1                                         \n",
      "Covariance Type:            nonrobust                                         \n",
      "==============================================================================\n",
      "                 coef    std err          t      P>|t|      [95.0% Conf. Int.]\n",
      "------------------------------------------------------------------------------\n",
      "Intercept      0.4277      0.074      5.761      0.000         0.282     0.573\n",
      "Onboard       -0.0763      0.050     -1.514      0.130        -0.175     0.023\n",
      "==============================================================================\n",
      "Omnibus:                      745.477   Durbin-Watson:                   1.840\n",
      "Prob(Omnibus):                  0.000   Jarque-Bera (JB):            21940.861\n",
      "Skew:                           4.495   Prob(JB):                         0.00\n",
      "Kurtosis:                      27.360   Cond. No.                         4.06\n",
      "==============================================================================\n",
      "\n",
      "Warnings:\n",
      "[1] Standard Errors assume that the covariance matrix of the errors is correctly specified.\n"
     ]
    }
   ],
   "source": [
    "results_1 = sm.ols('Groups ~ Onboard', data = create_rf).fit()\n",
    "results_2 = sm.ols('Comments ~ Onboard', data = create_rf).fit()\n",
    "results_3 = sm.ols('Colleagues ~ Onboard', data = create_rf).fit()\n",
    "\n",
    "print (results_1.summary())\n",
    "print (results_2.summary())\n",
    "print (results_3.summary())"
   ]
  },
  {
   "cell_type": "code",
   "execution_count": 58,
   "metadata": {
    "collapsed": false
   },
   "outputs": [
    {
     "name": "stderr",
     "output_type": "stream",
     "text": [
      "C:\\Users\\Owner\\Anaconda3\\lib\\site-packages\\ipykernel\\__main__.py:3: SettingWithCopyWarning: \n",
      "A value is trying to be set on a copy of a slice from a DataFrame.\n",
      "Try using .loc[row_indexer,col_indexer] = value instead\n",
      "\n",
      "See the the caveats in the documentation: http://pandas.pydata.org/pandas-docs/stable/indexing.html#indexing-view-versus-copy\n",
      "  app.launch_new_instance()\n"
     ]
    }
   ],
   "source": [
    "#Need to control for time\n",
    "\n",
    "create_rf['Account.Created'] = pd.to_datetime(create_rf['Account.Created'], format = '%Y-%m-%d')"
   ]
  },
  {
   "cell_type": "code",
   "execution_count": 66,
   "metadata": {
    "collapsed": false
   },
   "outputs": [
    {
     "name": "stderr",
     "output_type": "stream",
     "text": [
      "C:\\Users\\Owner\\Anaconda3\\lib\\site-packages\\ipykernel\\__main__.py:1: SettingWithCopyWarning: \n",
      "A value is trying to be set on a copy of a slice from a DataFrame.\n",
      "Try using .loc[row_indexer,col_indexer] = value instead\n",
      "\n",
      "See the the caveats in the documentation: http://pandas.pydata.org/pandas-docs/stable/indexing.html#indexing-view-versus-copy\n",
      "  if __name__ == '__main__':\n"
     ]
    }
   ],
   "source": [
    "create_rf['Time'] = pd.to_datetime('2016-10-28', format = '%Y-%m-%d') - create_rf['Account.Created']"
   ]
  },
  {
   "cell_type": "code",
   "execution_count": 77,
   "metadata": {
    "collapsed": false
   },
   "outputs": [
    {
     "name": "stderr",
     "output_type": "stream",
     "text": [
      "C:\\Users\\Owner\\Anaconda3\\lib\\site-packages\\ipykernel\\__main__.py:1: SettingWithCopyWarning: \n",
      "A value is trying to be set on a copy of a slice from a DataFrame.\n",
      "Try using .loc[row_indexer,col_indexer] = value instead\n",
      "\n",
      "See the the caveats in the documentation: http://pandas.pydata.org/pandas-docs/stable/indexing.html#indexing-view-versus-copy\n",
      "  if __name__ == '__main__':\n"
     ]
    }
   ],
   "source": [
    "create_rf['Time'] = (create_rf['Time']/np.timedelta64(1,'D')).astype(int)"
   ]
  },
  {
   "cell_type": "code",
   "execution_count": 78,
   "metadata": {
    "collapsed": false
   },
   "outputs": [
    {
     "name": "stdout",
     "output_type": "stream",
     "text": [
      "                            OLS Regression Results                            \n",
      "==============================================================================\n",
      "Dep. Variable:                 Groups   R-squared:                       0.010\n",
      "Model:                            OLS   Adj. R-squared:                  0.007\n",
      "Method:                 Least Squares   F-statistic:                     3.745\n",
      "Date:                Wed, 02 Nov 2016   Prob (F-statistic):             0.0241\n",
      "Time:                        10:32:42   Log-Likelihood:                -1156.4\n",
      "No. Observations:                 781   AIC:                             2319.\n",
      "Df Residuals:                     778   BIC:                             2333.\n",
      "Df Model:                           2                                         \n",
      "Covariance Type:            nonrobust                                         \n",
      "==============================================================================\n",
      "                 coef    std err          t      P>|t|      [95.0% Conf. Int.]\n",
      "------------------------------------------------------------------------------\n",
      "Intercept      1.7455      0.096     18.158      0.000         1.557     1.934\n",
      "Onboard       -0.1381      0.052     -2.669      0.008        -0.240    -0.037\n",
      "Time          -0.0068      0.013     -0.544      0.587        -0.031     0.018\n",
      "==============================================================================\n",
      "Omnibus:                      459.217   Durbin-Watson:                   1.941\n",
      "Prob(Omnibus):                  0.000   Jarque-Bera (JB):             4291.965\n",
      "Skew:                           2.546   Prob(JB):                         0.00\n",
      "Kurtosis:                      13.294   Cond. No.                         15.8\n",
      "==============================================================================\n",
      "\n",
      "Warnings:\n",
      "[1] Standard Errors assume that the covariance matrix of the errors is correctly specified.\n",
      "                            OLS Regression Results                            \n",
      "==============================================================================\n",
      "Dep. Variable:               Comments   R-squared:                       0.001\n",
      "Model:                            OLS   Adj. R-squared:                 -0.001\n",
      "Method:                 Least Squares   F-statistic:                    0.5557\n",
      "Date:                Wed, 02 Nov 2016   Prob (F-statistic):              0.574\n",
      "Time:                        10:32:42   Log-Likelihood:                 327.10\n",
      "No. Observations:                 781   AIC:                            -648.2\n",
      "Df Residuals:                     778   BIC:                            -634.2\n",
      "Df Model:                           2                                         \n",
      "Covariance Type:            nonrobust                                         \n",
      "==============================================================================\n",
      "                 coef    std err          t      P>|t|      [95.0% Conf. Int.]\n",
      "------------------------------------------------------------------------------\n",
      "Intercept      0.0280      0.014      1.946      0.052        -0.000     0.056\n",
      "Onboard       -0.0078      0.008     -1.003      0.316        -0.023     0.007\n",
      "Time          -0.0006      0.002     -0.301      0.764        -0.004     0.003\n",
      "==============================================================================\n",
      "Omnibus:                     1457.612   Durbin-Watson:                   2.022\n",
      "Prob(Omnibus):                  0.000   Jarque-Bera (JB):          1295562.246\n",
      "Skew:                          12.980   Prob(JB):                         0.00\n",
      "Kurtosis:                     200.834   Cond. No.                         15.8\n",
      "==============================================================================\n",
      "\n",
      "Warnings:\n",
      "[1] Standard Errors assume that the covariance matrix of the errors is correctly specified.\n",
      "                            OLS Regression Results                            \n",
      "==============================================================================\n",
      "Dep. Variable:             Colleagues   R-squared:                       0.003\n",
      "Model:                            OLS   Adj. R-squared:                  0.001\n",
      "Method:                 Least Squares   F-statistic:                     1.244\n",
      "Date:                Wed, 02 Nov 2016   Prob (F-statistic):              0.289\n",
      "Time:                        10:32:42   Log-Likelihood:                -1135.7\n",
      "No. Observations:                 781   AIC:                             2277.\n",
      "Df Residuals:                     778   BIC:                             2291.\n",
      "Df Model:                           2                                         \n",
      "Covariance Type:            nonrobust                                         \n",
      "==============================================================================\n",
      "                 coef    std err          t      P>|t|      [95.0% Conf. Int.]\n",
      "------------------------------------------------------------------------------\n",
      "Intercept      0.4023      0.094      4.298      0.000         0.219     0.586\n",
      "Onboard       -0.0768      0.050     -1.523      0.128        -0.176     0.022\n",
      "Time           0.0054      0.012      0.445      0.657        -0.019     0.029\n",
      "==============================================================================\n",
      "Omnibus:                      744.909   Durbin-Watson:                   1.840\n",
      "Prob(Omnibus):                  0.000   Jarque-Bera (JB):            21876.256\n",
      "Skew:                           4.490   Prob(JB):                         0.00\n",
      "Kurtosis:                      27.323   Cond. No.                         15.8\n",
      "==============================================================================\n",
      "\n",
      "Warnings:\n",
      "[1] Standard Errors assume that the covariance matrix of the errors is correctly specified.\n"
     ]
    }
   ],
   "source": [
    "#Seems like there just isn't enough variation in the observations to do anything\n",
    "\n",
    "results_1 = sm.ols('Groups ~ Onboard + Time', data = create_rf).fit()\n",
    "results_2 = sm.ols('Comments ~ Onboard + Time', data = create_rf).fit()\n",
    "results_3 = sm.ols('Colleagues ~ Onboard + Time', data = create_rf).fit()\n",
    "\n",
    "print (results_1.summary())\n",
    "print (results_2.summary())\n",
    "print (results_3.summary())"
   ]
  },
  {
   "cell_type": "markdown",
   "metadata": {},
   "source": [
    "Regression Analysis doesn't says that there is no real statistical difference that onboarding makes in the activity of groups colleagues and comments.\n",
    "\n",
    "It's not really that surprising. A better metric would be to see if they feel more comfortable with the page, and maybe how often they log on. But we can't match Google Analytics data anyway"
   ]
  },
  {
   "cell_type": "code",
   "execution_count": null,
   "metadata": {
    "collapsed": true
   },
   "outputs": [],
   "source": []
  }
 ],
 "metadata": {
  "kernelspec": {
   "display_name": "Python 3",
   "language": "python",
   "name": "python3"
  },
  "language_info": {
   "codemirror_mode": {
    "name": "ipython",
    "version": 3
   },
   "file_extension": ".py",
   "mimetype": "text/x-python",
   "name": "python",
   "nbconvert_exporter": "python",
   "pygments_lexer": "ipython3",
   "version": "3.4.5"
  }
 },
 "nbformat": 4,
 "nbformat_minor": 0
}
