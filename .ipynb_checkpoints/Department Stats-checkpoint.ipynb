{
 "cells": [
  {
   "cell_type": "code",
   "execution_count": 1,
   "metadata": {
    "collapsed": true
   },
   "outputs": [],
   "source": [
    "#This is the beginnings of making a script that can take a general dataset\n",
    "#Containing data on whether an individual in a specific department has filled out the 'About me' Section\n",
    "# And/Or has created an avatar\n",
    "import pandas as pd\n",
    "import pylab as pl\n",
    "import numpy as np\n",
    "import matplotlib.pyplot as plt\n",
    "import os\n",
    "import glob\n",
    "import re\n",
    "import networkx as nx\n",
    "import csv\n",
    "import json\n"
   ]
  },
  {
   "cell_type": "code",
   "execution_count": 2,
   "metadata": {
    "collapsed": true
   },
   "outputs": [],
   "source": [
    "data_path = r\"/Users/Owner/Documents/Work_transfer/Data/GCconnex/Profile Statistics/\""
   ]
  },
  {
   "cell_type": "code",
   "execution_count": 3,
   "metadata": {
    "collapsed": false
   },
   "outputs": [],
   "source": [
    "df = pd.read_csv(data_path+'Anonymous Department Profile Stats.csv')"
   ]
  },
  {
   "cell_type": "code",
   "execution_count": null,
   "metadata": {
    "collapsed": false
   },
   "outputs": [],
   "source": []
  },
  {
   "cell_type": "code",
   "execution_count": null,
   "metadata": {
    "collapsed": false
   },
   "outputs": [],
   "source": []
  },
  {
   "cell_type": "code",
   "execution_count": 5,
   "metadata": {
    "collapsed": false
   },
   "outputs": [],
   "source": [
    "#Separating the departments and profile codes into different DataFrames\n",
    "dep = df.drop('Code', 1)\n",
    "df = df.drop('Department', 1)"
   ]
  },
  {
   "cell_type": "code",
   "execution_count": null,
   "metadata": {
    "collapsed": false
   },
   "outputs": [],
   "source": []
  },
  {
   "cell_type": "code",
   "execution_count": 6,
   "metadata": {
    "collapsed": false
   },
   "outputs": [
    {
     "name": "stderr",
     "output_type": "stream",
     "text": [
      "C:\\Users\\Owner\\Anaconda3\\lib\\site-packages\\pandas\\util\\decorators.py:88: SettingWithCopyWarning: \n",
      "A value is trying to be set on a copy of a slice from a DataFrame\n",
      "\n",
      "See the the caveats in the documentation: http://pandas.pydata.org/pandas-docs/stable/indexing.html#indexing-view-versus-copy\n",
      "  return func(*args, **kwargs)\n"
     ]
    }
   ],
   "source": [
    "# Further Splitting the codes DataFrame into two and removing duplicate entries\n",
    "#If somebody edited their about me profile multiple times they will appear multiple times\n",
    "df2 = df.loc[df['Code'] == 73]\n",
    "df1 = df.loc[df['Code'] == 55]\n",
    "df2.drop_duplicates(inplace=True)\n",
    "df1.drop_duplicates(inplace=True)"
   ]
  },
  {
   "cell_type": "code",
   "execution_count": null,
   "metadata": {
    "collapsed": false
   },
   "outputs": [],
   "source": []
  },
  {
   "cell_type": "code",
   "execution_count": 7,
   "metadata": {
    "collapsed": false
   },
   "outputs": [],
   "source": [
    "#Merging the two code dataframes into one single dataframe containing telling whether that individual\n",
    "#Has filled uploaded an avatar or filled out the \"about me\" section\n",
    "#This way each code occupies a column\n",
    "df = pd.merge(df1, df2, how='outer', on='User GUID')"
   ]
  },
  {
   "cell_type": "code",
   "execution_count": 8,
   "metadata": {
    "collapsed": false
   },
   "outputs": [
    {
     "data": {
      "text/html": [
       "<div>\n",
       "<table border=\"1\" class=\"dataframe\">\n",
       "  <thead>\n",
       "    <tr style=\"text-align: right;\">\n",
       "      <th></th>\n",
       "      <th>Code_x</th>\n",
       "      <th>User GUID</th>\n",
       "      <th>Code_y</th>\n",
       "    </tr>\n",
       "  </thead>\n",
       "  <tbody>\n",
       "    <tr>\n",
       "      <th>0</th>\n",
       "      <td>55</td>\n",
       "      <td>22</td>\n",
       "      <td>73</td>\n",
       "    </tr>\n",
       "    <tr>\n",
       "      <th>1</th>\n",
       "      <td>55</td>\n",
       "      <td>363</td>\n",
       "      <td>NaN</td>\n",
       "    </tr>\n",
       "    <tr>\n",
       "      <th>2</th>\n",
       "      <td>55</td>\n",
       "      <td>224</td>\n",
       "      <td>73</td>\n",
       "    </tr>\n",
       "    <tr>\n",
       "      <th>3</th>\n",
       "      <td>55</td>\n",
       "      <td>460</td>\n",
       "      <td>73</td>\n",
       "    </tr>\n",
       "    <tr>\n",
       "      <th>4</th>\n",
       "      <td>55</td>\n",
       "      <td>70</td>\n",
       "      <td>73</td>\n",
       "    </tr>\n",
       "  </tbody>\n",
       "</table>\n",
       "</div>"
      ],
      "text/plain": [
       "   Code_x  User GUID  Code_y\n",
       "0      55         22      73\n",
       "1      55        363     NaN\n",
       "2      55        224      73\n",
       "3      55        460      73\n",
       "4      55         70      73"
      ]
     },
     "execution_count": 8,
     "metadata": {},
     "output_type": "execute_result"
    }
   ],
   "source": [
    "df.head()"
   ]
  },
  {
   "cell_type": "code",
   "execution_count": 9,
   "metadata": {
    "collapsed": false
   },
   "outputs": [],
   "source": [
    "#Merging the departments dataframe and codes dataframe\n",
    "df = pd.merge(df, dep, how='outer', on='User GUID')"
   ]
  },
  {
   "cell_type": "code",
   "execution_count": 10,
   "metadata": {
    "collapsed": false
   },
   "outputs": [],
   "source": [
    "df = df.drop_duplicates()\n"
   ]
  },
  {
   "cell_type": "code",
   "execution_count": 11,
   "metadata": {
    "collapsed": false
   },
   "outputs": [],
   "source": [
    "df.columns = ['About me', 'User GUID', 'Avatar', 'Department']"
   ]
  },
  {
   "cell_type": "code",
   "execution_count": 12,
   "metadata": {
    "collapsed": false
   },
   "outputs": [],
   "source": [
    "df = df[['User GUID', 'Department', 'About me', 'Avatar']]"
   ]
  },
  {
   "cell_type": "code",
   "execution_count": 13,
   "metadata": {
    "collapsed": false
   },
   "outputs": [
    {
     "data": {
      "text/html": [
       "<div>\n",
       "<table border=\"1\" class=\"dataframe\">\n",
       "  <thead>\n",
       "    <tr style=\"text-align: right;\">\n",
       "      <th></th>\n",
       "      <th>User GUID</th>\n",
       "      <th>Department</th>\n",
       "      <th>About me</th>\n",
       "      <th>Avatar</th>\n",
       "    </tr>\n",
       "  </thead>\n",
       "  <tbody>\n",
       "    <tr>\n",
       "      <th>0</th>\n",
       "      <td>22</td>\n",
       "      <td>international.gc.ca</td>\n",
       "      <td>55</td>\n",
       "      <td>73</td>\n",
       "    </tr>\n",
       "    <tr>\n",
       "      <th>2</th>\n",
       "      <td>363</td>\n",
       "      <td>servicecanada.gc.ca</td>\n",
       "      <td>55</td>\n",
       "      <td>NaN</td>\n",
       "    </tr>\n",
       "    <tr>\n",
       "      <th>3</th>\n",
       "      <td>224</td>\n",
       "      <td>ceaa-acee.gc.ca</td>\n",
       "      <td>55</td>\n",
       "      <td>73</td>\n",
       "    </tr>\n",
       "    <tr>\n",
       "      <th>5</th>\n",
       "      <td>460</td>\n",
       "      <td>NRCan-RNCan.gc.ca</td>\n",
       "      <td>55</td>\n",
       "      <td>73</td>\n",
       "    </tr>\n",
       "    <tr>\n",
       "      <th>7</th>\n",
       "      <td>70</td>\n",
       "      <td>tbs-sct.gc.ca</td>\n",
       "      <td>55</td>\n",
       "      <td>73</td>\n",
       "    </tr>\n",
       "    <tr>\n",
       "      <th>9</th>\n",
       "      <td>106</td>\n",
       "      <td>tpsgc-pwgsc.gc.ca</td>\n",
       "      <td>55</td>\n",
       "      <td>73</td>\n",
       "    </tr>\n",
       "    <tr>\n",
       "      <th>11</th>\n",
       "      <td>537</td>\n",
       "      <td>NRCan-RNCan.gc.ca</td>\n",
       "      <td>55</td>\n",
       "      <td>73</td>\n",
       "    </tr>\n",
       "    <tr>\n",
       "      <th>13</th>\n",
       "      <td>1110</td>\n",
       "      <td>pch.gc.ca</td>\n",
       "      <td>55</td>\n",
       "      <td>73</td>\n",
       "    </tr>\n",
       "    <tr>\n",
       "      <th>15</th>\n",
       "      <td>1420</td>\n",
       "      <td>pwgsc.gc.ca</td>\n",
       "      <td>55</td>\n",
       "      <td>73</td>\n",
       "    </tr>\n",
       "    <tr>\n",
       "      <th>17</th>\n",
       "      <td>1217</td>\n",
       "      <td>hc-sc.gc.ca</td>\n",
       "      <td>55</td>\n",
       "      <td>73</td>\n",
       "    </tr>\n",
       "    <tr>\n",
       "      <th>19</th>\n",
       "      <td>1227</td>\n",
       "      <td>hc-sc.gc.ca</td>\n",
       "      <td>55</td>\n",
       "      <td>73</td>\n",
       "    </tr>\n",
       "    <tr>\n",
       "      <th>21</th>\n",
       "      <td>1404</td>\n",
       "      <td>ec.gc.ca</td>\n",
       "      <td>55</td>\n",
       "      <td>73</td>\n",
       "    </tr>\n",
       "    <tr>\n",
       "      <th>23</th>\n",
       "      <td>1741</td>\n",
       "      <td>hc-sc.gc.ca</td>\n",
       "      <td>55</td>\n",
       "      <td>73</td>\n",
       "    </tr>\n",
       "    <tr>\n",
       "      <th>25</th>\n",
       "      <td>775</td>\n",
       "      <td>agr.gc.ca</td>\n",
       "      <td>55</td>\n",
       "      <td>NaN</td>\n",
       "    </tr>\n",
       "    <tr>\n",
       "      <th>26</th>\n",
       "      <td>669</td>\n",
       "      <td>ic.gc.ca</td>\n",
       "      <td>55</td>\n",
       "      <td>73</td>\n",
       "    </tr>\n",
       "    <tr>\n",
       "      <th>28</th>\n",
       "      <td>2233</td>\n",
       "      <td>ec.gc.ca</td>\n",
       "      <td>55</td>\n",
       "      <td>73</td>\n",
       "    </tr>\n",
       "    <tr>\n",
       "      <th>30</th>\n",
       "      <td>2269</td>\n",
       "      <td>ec.gc.ca</td>\n",
       "      <td>55</td>\n",
       "      <td>73</td>\n",
       "    </tr>\n",
       "    <tr>\n",
       "      <th>32</th>\n",
       "      <td>605</td>\n",
       "      <td>ec.gc.ca</td>\n",
       "      <td>55</td>\n",
       "      <td>NaN</td>\n",
       "    </tr>\n",
       "    <tr>\n",
       "      <th>33</th>\n",
       "      <td>2203</td>\n",
       "      <td>ec.gc.ca</td>\n",
       "      <td>55</td>\n",
       "      <td>73</td>\n",
       "    </tr>\n",
       "    <tr>\n",
       "      <th>35</th>\n",
       "      <td>2352</td>\n",
       "      <td>ec.gc.ca</td>\n",
       "      <td>55</td>\n",
       "      <td>73</td>\n",
       "    </tr>\n",
       "    <tr>\n",
       "      <th>37</th>\n",
       "      <td>2213</td>\n",
       "      <td>ec.gc.ca</td>\n",
       "      <td>55</td>\n",
       "      <td>73</td>\n",
       "    </tr>\n",
       "    <tr>\n",
       "      <th>39</th>\n",
       "      <td>2289</td>\n",
       "      <td>ec.gc.ca</td>\n",
       "      <td>55</td>\n",
       "      <td>73</td>\n",
       "    </tr>\n",
       "    <tr>\n",
       "      <th>41</th>\n",
       "      <td>2532</td>\n",
       "      <td>csps-efpc.gc.ca</td>\n",
       "      <td>55</td>\n",
       "      <td>NaN</td>\n",
       "    </tr>\n",
       "    <tr>\n",
       "      <th>42</th>\n",
       "      <td>2431</td>\n",
       "      <td>ec.gc.ca</td>\n",
       "      <td>55</td>\n",
       "      <td>73</td>\n",
       "    </tr>\n",
       "    <tr>\n",
       "      <th>44</th>\n",
       "      <td>2614</td>\n",
       "      <td>ec.gc.ca</td>\n",
       "      <td>55</td>\n",
       "      <td>NaN</td>\n",
       "    </tr>\n",
       "    <tr>\n",
       "      <th>45</th>\n",
       "      <td>2445</td>\n",
       "      <td>ec.gc.ca</td>\n",
       "      <td>55</td>\n",
       "      <td>NaN</td>\n",
       "    </tr>\n",
       "    <tr>\n",
       "      <th>46</th>\n",
       "      <td>2679</td>\n",
       "      <td>ec.gc.ca</td>\n",
       "      <td>55</td>\n",
       "      <td>73</td>\n",
       "    </tr>\n",
       "    <tr>\n",
       "      <th>48</th>\n",
       "      <td>2299</td>\n",
       "      <td>ec.gc.ca</td>\n",
       "      <td>55</td>\n",
       "      <td>73</td>\n",
       "    </tr>\n",
       "    <tr>\n",
       "      <th>50</th>\n",
       "      <td>2693</td>\n",
       "      <td>ec.gc.ca</td>\n",
       "      <td>55</td>\n",
       "      <td>NaN</td>\n",
       "    </tr>\n",
       "    <tr>\n",
       "      <th>51</th>\n",
       "      <td>2793</td>\n",
       "      <td>international.gc.ca</td>\n",
       "      <td>55</td>\n",
       "      <td>73</td>\n",
       "    </tr>\n",
       "    <tr>\n",
       "      <th>...</th>\n",
       "      <td>...</td>\n",
       "      <td>...</td>\n",
       "      <td>...</td>\n",
       "      <td>...</td>\n",
       "    </tr>\n",
       "    <tr>\n",
       "      <th>20885</th>\n",
       "      <td>8699929</td>\n",
       "      <td>cra-arc.gc.ca</td>\n",
       "      <td>NaN</td>\n",
       "      <td>73</td>\n",
       "    </tr>\n",
       "    <tr>\n",
       "      <th>20886</th>\n",
       "      <td>48214</td>\n",
       "      <td>cra-arc.gc.ca</td>\n",
       "      <td>NaN</td>\n",
       "      <td>73</td>\n",
       "    </tr>\n",
       "    <tr>\n",
       "      <th>20887</th>\n",
       "      <td>14874675</td>\n",
       "      <td>dfo-mpo.gc.ca</td>\n",
       "      <td>NaN</td>\n",
       "      <td>73</td>\n",
       "    </tr>\n",
       "    <tr>\n",
       "      <th>20888</th>\n",
       "      <td>2765345</td>\n",
       "      <td>telefilm.gc.ca</td>\n",
       "      <td>NaN</td>\n",
       "      <td>73</td>\n",
       "    </tr>\n",
       "    <tr>\n",
       "      <th>20889</th>\n",
       "      <td>14094846</td>\n",
       "      <td>servicecanada.gc.ca</td>\n",
       "      <td>NaN</td>\n",
       "      <td>73</td>\n",
       "    </tr>\n",
       "    <tr>\n",
       "      <th>20890</th>\n",
       "      <td>15018939</td>\n",
       "      <td>canada.ca</td>\n",
       "      <td>NaN</td>\n",
       "      <td>73</td>\n",
       "    </tr>\n",
       "    <tr>\n",
       "      <th>20891</th>\n",
       "      <td>14542258</td>\n",
       "      <td>aandc-aadnc.gc.ca</td>\n",
       "      <td>NaN</td>\n",
       "      <td>73</td>\n",
       "    </tr>\n",
       "    <tr>\n",
       "      <th>20892</th>\n",
       "      <td>12464243</td>\n",
       "      <td>tpsgc-pwgsc.gc.ca</td>\n",
       "      <td>NaN</td>\n",
       "      <td>73</td>\n",
       "    </tr>\n",
       "    <tr>\n",
       "      <th>20893</th>\n",
       "      <td>15021153</td>\n",
       "      <td>international.gc.ca</td>\n",
       "      <td>NaN</td>\n",
       "      <td>73</td>\n",
       "    </tr>\n",
       "    <tr>\n",
       "      <th>20894</th>\n",
       "      <td>4156025</td>\n",
       "      <td>aadnc-aandc.gc.ca</td>\n",
       "      <td>NaN</td>\n",
       "      <td>73</td>\n",
       "    </tr>\n",
       "    <tr>\n",
       "      <th>20895</th>\n",
       "      <td>14814450</td>\n",
       "      <td>pwgsc-tpsgc.gc.ca</td>\n",
       "      <td>NaN</td>\n",
       "      <td>73</td>\n",
       "    </tr>\n",
       "    <tr>\n",
       "      <th>20896</th>\n",
       "      <td>4287808</td>\n",
       "      <td>canada.ca</td>\n",
       "      <td>NaN</td>\n",
       "      <td>73</td>\n",
       "    </tr>\n",
       "    <tr>\n",
       "      <th>20897</th>\n",
       "      <td>208109</td>\n",
       "      <td>cra.gc.ca</td>\n",
       "      <td>NaN</td>\n",
       "      <td>73</td>\n",
       "    </tr>\n",
       "    <tr>\n",
       "      <th>20898</th>\n",
       "      <td>9136130</td>\n",
       "      <td>cse-cst.gc.ca</td>\n",
       "      <td>NaN</td>\n",
       "      <td>73</td>\n",
       "    </tr>\n",
       "    <tr>\n",
       "      <th>20899</th>\n",
       "      <td>864999</td>\n",
       "      <td>justice.gc.ca</td>\n",
       "      <td>NaN</td>\n",
       "      <td>73</td>\n",
       "    </tr>\n",
       "    <tr>\n",
       "      <th>20900</th>\n",
       "      <td>3309868</td>\n",
       "      <td>cra-arc.gc.ca</td>\n",
       "      <td>NaN</td>\n",
       "      <td>73</td>\n",
       "    </tr>\n",
       "    <tr>\n",
       "      <th>20901</th>\n",
       "      <td>1857709</td>\n",
       "      <td>cra-arc.gc.ca</td>\n",
       "      <td>NaN</td>\n",
       "      <td>73</td>\n",
       "    </tr>\n",
       "    <tr>\n",
       "      <th>20902</th>\n",
       "      <td>14958106</td>\n",
       "      <td>vac-acc.gc.ca</td>\n",
       "      <td>NaN</td>\n",
       "      <td>73</td>\n",
       "    </tr>\n",
       "    <tr>\n",
       "      <th>20903</th>\n",
       "      <td>13209089</td>\n",
       "      <td>aadnc-aandc.gc.ca</td>\n",
       "      <td>NaN</td>\n",
       "      <td>73</td>\n",
       "    </tr>\n",
       "    <tr>\n",
       "      <th>20904</th>\n",
       "      <td>15061351</td>\n",
       "      <td>pch.gc.ca</td>\n",
       "      <td>NaN</td>\n",
       "      <td>73</td>\n",
       "    </tr>\n",
       "    <tr>\n",
       "      <th>20905</th>\n",
       "      <td>6019044</td>\n",
       "      <td>forces.gc.ca</td>\n",
       "      <td>NaN</td>\n",
       "      <td>73</td>\n",
       "    </tr>\n",
       "    <tr>\n",
       "      <th>20906</th>\n",
       "      <td>15068678</td>\n",
       "      <td>tpsgc.gc.ca</td>\n",
       "      <td>NaN</td>\n",
       "      <td>73</td>\n",
       "    </tr>\n",
       "    <tr>\n",
       "      <th>20907</th>\n",
       "      <td>1560113</td>\n",
       "      <td>cra-arc.gc.ca</td>\n",
       "      <td>NaN</td>\n",
       "      <td>73</td>\n",
       "    </tr>\n",
       "    <tr>\n",
       "      <th>20908</th>\n",
       "      <td>1877037</td>\n",
       "      <td>csc-scc.gc.ca</td>\n",
       "      <td>NaN</td>\n",
       "      <td>73</td>\n",
       "    </tr>\n",
       "    <tr>\n",
       "      <th>20909</th>\n",
       "      <td>11714302</td>\n",
       "      <td>dfo-mpo.gc.ca</td>\n",
       "      <td>NaN</td>\n",
       "      <td>73</td>\n",
       "    </tr>\n",
       "    <tr>\n",
       "      <th>20910</th>\n",
       "      <td>3851840</td>\n",
       "      <td>forces.gc.ca</td>\n",
       "      <td>NaN</td>\n",
       "      <td>73</td>\n",
       "    </tr>\n",
       "    <tr>\n",
       "      <th>20911</th>\n",
       "      <td>175563</td>\n",
       "      <td>hc-sc.gc.ca</td>\n",
       "      <td>NaN</td>\n",
       "      <td>73</td>\n",
       "    </tr>\n",
       "    <tr>\n",
       "      <th>20912</th>\n",
       "      <td>5422380</td>\n",
       "      <td>csps-efpc.gc.ca</td>\n",
       "      <td>NaN</td>\n",
       "      <td>73</td>\n",
       "    </tr>\n",
       "    <tr>\n",
       "      <th>20913</th>\n",
       "      <td>4160245</td>\n",
       "      <td>inspection.gc.ca</td>\n",
       "      <td>NaN</td>\n",
       "      <td>73</td>\n",
       "    </tr>\n",
       "    <tr>\n",
       "      <th>20914</th>\n",
       "      <td>15076073</td>\n",
       "      <td>pwgsc.gc.ca</td>\n",
       "      <td>NaN</td>\n",
       "      <td>73</td>\n",
       "    </tr>\n",
       "  </tbody>\n",
       "</table>\n",
       "<p>15949 rows × 4 columns</p>\n",
       "</div>"
      ],
      "text/plain": [
       "       User GUID           Department  About me  Avatar\n",
       "0             22  international.gc.ca        55      73\n",
       "2            363  servicecanada.gc.ca        55     NaN\n",
       "3            224      ceaa-acee.gc.ca        55      73\n",
       "5            460    NRCan-RNCan.gc.ca        55      73\n",
       "7             70        tbs-sct.gc.ca        55      73\n",
       "9            106    tpsgc-pwgsc.gc.ca        55      73\n",
       "11           537    NRCan-RNCan.gc.ca        55      73\n",
       "13          1110            pch.gc.ca        55      73\n",
       "15          1420          pwgsc.gc.ca        55      73\n",
       "17          1217          hc-sc.gc.ca        55      73\n",
       "19          1227          hc-sc.gc.ca        55      73\n",
       "21          1404             ec.gc.ca        55      73\n",
       "23          1741          hc-sc.gc.ca        55      73\n",
       "25           775            agr.gc.ca        55     NaN\n",
       "26           669             ic.gc.ca        55      73\n",
       "28          2233             ec.gc.ca        55      73\n",
       "30          2269             ec.gc.ca        55      73\n",
       "32           605             ec.gc.ca        55     NaN\n",
       "33          2203             ec.gc.ca        55      73\n",
       "35          2352             ec.gc.ca        55      73\n",
       "37          2213             ec.gc.ca        55      73\n",
       "39          2289             ec.gc.ca        55      73\n",
       "41          2532      csps-efpc.gc.ca        55     NaN\n",
       "42          2431             ec.gc.ca        55      73\n",
       "44          2614             ec.gc.ca        55     NaN\n",
       "45          2445             ec.gc.ca        55     NaN\n",
       "46          2679             ec.gc.ca        55      73\n",
       "48          2299             ec.gc.ca        55      73\n",
       "50          2693             ec.gc.ca        55     NaN\n",
       "51          2793  international.gc.ca        55      73\n",
       "...          ...                  ...       ...     ...\n",
       "20885    8699929        cra-arc.gc.ca       NaN      73\n",
       "20886      48214        cra-arc.gc.ca       NaN      73\n",
       "20887   14874675        dfo-mpo.gc.ca       NaN      73\n",
       "20888    2765345       telefilm.gc.ca       NaN      73\n",
       "20889   14094846  servicecanada.gc.ca       NaN      73\n",
       "20890   15018939            canada.ca       NaN      73\n",
       "20891   14542258    aandc-aadnc.gc.ca       NaN      73\n",
       "20892   12464243    tpsgc-pwgsc.gc.ca       NaN      73\n",
       "20893   15021153  international.gc.ca       NaN      73\n",
       "20894    4156025    aadnc-aandc.gc.ca       NaN      73\n",
       "20895   14814450    pwgsc-tpsgc.gc.ca       NaN      73\n",
       "20896    4287808            canada.ca       NaN      73\n",
       "20897     208109            cra.gc.ca       NaN      73\n",
       "20898    9136130        cse-cst.gc.ca       NaN      73\n",
       "20899     864999        justice.gc.ca       NaN      73\n",
       "20900    3309868        cra-arc.gc.ca       NaN      73\n",
       "20901    1857709        cra-arc.gc.ca       NaN      73\n",
       "20902   14958106        vac-acc.gc.ca       NaN      73\n",
       "20903   13209089    aadnc-aandc.gc.ca       NaN      73\n",
       "20904   15061351            pch.gc.ca       NaN      73\n",
       "20905    6019044         forces.gc.ca       NaN      73\n",
       "20906   15068678          tpsgc.gc.ca       NaN      73\n",
       "20907    1560113        cra-arc.gc.ca       NaN      73\n",
       "20908    1877037        csc-scc.gc.ca       NaN      73\n",
       "20909   11714302        dfo-mpo.gc.ca       NaN      73\n",
       "20910    3851840         forces.gc.ca       NaN      73\n",
       "20911     175563          hc-sc.gc.ca       NaN      73\n",
       "20912    5422380      csps-efpc.gc.ca       NaN      73\n",
       "20913    4160245     inspection.gc.ca       NaN      73\n",
       "20914   15076073          pwgsc.gc.ca       NaN      73\n",
       "\n",
       "[15949 rows x 4 columns]"
      ]
     },
     "execution_count": 13,
     "metadata": {},
     "output_type": "execute_result"
    }
   ],
   "source": [
    "df"
   ]
  },
  {
   "cell_type": "code",
   "execution_count": 14,
   "metadata": {
    "collapsed": false
   },
   "outputs": [],
   "source": [
    "#Creating a column that indicates whether a user has both or none\n",
    "df['Both'] = df['About me'] + df['Avatar']"
   ]
  },
  {
   "cell_type": "code",
   "execution_count": 15,
   "metadata": {
    "collapsed": false
   },
   "outputs": [],
   "source": [
    "# A series of functions that transform the codes from numbers to Y and N's.\n",
    "def f(x):\n",
    "    if x == 128:\n",
    "        return 'Y'\n",
    "    else:\n",
    "        return 'N'\n",
    "\n",
    "def g(x):\n",
    "    if x == 55:\n",
    "        return 'Y'\n",
    "    else:\n",
    "        return 'N'\n",
    "    \n",
    "def h(x):\n",
    "    if x == 73:\n",
    "        return 'Y'\n",
    "    else:\n",
    "        return 'N'\n",
    "\n",
    "df['Both'] = df['Both'].apply(f)\n",
    "df['About me'] = df['About me'].apply(g)\n",
    "df['Avatar'] = df['Avatar'].apply(h)\n"
   ]
  },
  {
   "cell_type": "code",
   "execution_count": null,
   "metadata": {
    "collapsed": false
   },
   "outputs": [],
   "source": []
  },
  {
   "cell_type": "code",
   "execution_count": 16,
   "metadata": {
    "collapsed": false
   },
   "outputs": [],
   "source": [
    "#Exporting the raw data for verification that the code did its job and just in case this is useful\n",
    "df.to_csv(data_path+'Department Profile Stats Raw.csv')"
   ]
  },
  {
   "cell_type": "code",
   "execution_count": 17,
   "metadata": {
    "collapsed": false
   },
   "outputs": [],
   "source": [
    "depnum = df\n",
    "depnum['Department'] = depnum['Department'].str.lower()"
   ]
  },
  {
   "cell_type": "code",
   "execution_count": 18,
   "metadata": {
    "collapsed": false
   },
   "outputs": [],
   "source": [
    "dept = depnum.Department"
   ]
  },
  {
   "cell_type": "code",
   "execution_count": 19,
   "metadata": {
    "collapsed": false
   },
   "outputs": [],
   "source": [
    "dept_sort = set(dept)"
   ]
  },
  {
   "cell_type": "code",
   "execution_count": 20,
   "metadata": {
    "collapsed": false
   },
   "outputs": [],
   "source": [
    "dept_dict = {}\n"
   ]
  },
  {
   "cell_type": "code",
   "execution_count": 21,
   "metadata": {
    "collapsed": false
   },
   "outputs": [],
   "source": [
    "with open(os.path.join(data_path, \"csv_keys.csv\"), \"r\") as f:\n",
    "    reader = csv.reader(f, delimiter=',')\n",
    "    next(reader)\n",
    "    \n",
    "    for row in reader:\n",
    "        email, acronym = row\n",
    "        dept_dict[email] = acronym"
   ]
  },
  {
   "cell_type": "code",
   "execution_count": 22,
   "metadata": {
    "collapsed": false
   },
   "outputs": [],
   "source": [
    "dept_dict['cadets.gc.ca'] = 'CADETS'\n",
    "dept_dict['canada.gc.ca'] = 'CANADA'\n",
    "dept_dict['canada.ca'] = 'CANADA'\n",
    "dept_dict['tribunal.gc.ca'] = 'TRIBUNAL'\n",
    "dept_dict['cannor.gc.ca'] = 'CED/DEC'\n",
    "dept_dict['ci-oic.gc.ca'] = 'CI/OIC'\n",
    "dept_dict['ccgs-ngcc.gc.ca'] = 'CCGS/NGCC'\n",
    "dept_dict['god.ccgs-ngcc.gc.ca'] = 'CCGS/NGCC'\n",
    "dept_dict['clo-ocol.gc.ca'] = 'OCOL/CLO'\n",
    "dept_dict['csps.gc.ca'] = 'CSPS/EFPC'\n",
    "dept_dict['interenational.gc.ca'] = 'DFAITD/MAECD'\n",
    "dept_dict['cnb-ncw.gc.ca'] = 'CNB/NCW'\n",
    "dept_dict['ncw-cnb.gc.ca'] = 'CNB/NCW'\n",
    "dept_dict['nfb.gc.ca'] = 'NFB/ONF'\n",
    "dept_dict['nrccan-rncan.gc.ca'] = 'NRCAN/RNCAN'\n",
    "dept_dict['nserc-crsng.gc.ca'] = 'NSERC/CRSNG'\n",
    "dept_dict['pbc-clcc.gc.ca'] = 'PBC/CLCC'\n",
    "dept_dict['pco.bcp.gc.ca'] = 'PCO/BCP'\n",
    "dept_dict['pipsc.ca'] = 'PIPSC/IPFPC'\n",
    "dept_dict['ps.sp.gc.ca'] = 'PS/SP'\n",
    "dept_dict['servicecanada.gc.ca.gc.ca'] = 'HRSDC/RHDSC'\n",
    "\n",
    "\n",
    "\n",
    "\n"
   ]
  },
  {
   "cell_type": "code",
   "execution_count": 23,
   "metadata": {
    "collapsed": false
   },
   "outputs": [],
   "source": [
    "dep = pd.DataFrame.from_dict(dept_dict, orient='index')"
   ]
  },
  {
   "cell_type": "code",
   "execution_count": null,
   "metadata": {
    "collapsed": false
   },
   "outputs": [],
   "source": []
  },
  {
   "cell_type": "code",
   "execution_count": 24,
   "metadata": {
    "collapsed": false
   },
   "outputs": [],
   "source": [
    "depnum = depnum.replace({'Department': dept_dict})"
   ]
  },
  {
   "cell_type": "code",
   "execution_count": 25,
   "metadata": {
    "collapsed": false
   },
   "outputs": [],
   "source": [
    "depstats = depnum.groupby('Department').count()\n"
   ]
  },
  {
   "cell_type": "code",
   "execution_count": 26,
   "metadata": {
    "collapsed": false
   },
   "outputs": [],
   "source": [
    "depabout = depnum[(depnum['About me'] == 'Y')]"
   ]
  },
  {
   "cell_type": "code",
   "execution_count": 27,
   "metadata": {
    "collapsed": false
   },
   "outputs": [],
   "source": [
    "depabout = depabout.groupby('Department').count()"
   ]
  },
  {
   "cell_type": "code",
   "execution_count": 28,
   "metadata": {
    "collapsed": false
   },
   "outputs": [],
   "source": [
    "deppic = depnum[(depnum['Avatar'] == 'Y')]\n",
    "deppic = deppic.groupby('Department').count()"
   ]
  },
  {
   "cell_type": "code",
   "execution_count": 29,
   "metadata": {
    "collapsed": false
   },
   "outputs": [],
   "source": [
    "depboth = depnum[(depnum['Both'] == 'Y')]\n",
    "depboth = depboth.groupby('Department').count()"
   ]
  },
  {
   "cell_type": "code",
   "execution_count": 30,
   "metadata": {
    "collapsed": false
   },
   "outputs": [],
   "source": [
    "depagg = pd.concat([depstats['User GUID'], depabout['About me'], deppic['Avatar'], depboth['Both']], axis=1, keys= ['Users', 'About me', 'Avatar', 'Both'])"
   ]
  },
  {
   "cell_type": "code",
   "execution_count": 31,
   "metadata": {
    "collapsed": false
   },
   "outputs": [],
   "source": [
    "depagg = depagg.fillna(0)"
   ]
  },
  {
   "cell_type": "code",
   "execution_count": null,
   "metadata": {
    "collapsed": false
   },
   "outputs": [],
   "source": []
  },
  {
   "cell_type": "code",
   "execution_count": null,
   "metadata": {
    "collapsed": true
   },
   "outputs": [],
   "source": []
  },
  {
   "cell_type": "code",
   "execution_count": null,
   "metadata": {
    "collapsed": true
   },
   "outputs": [],
   "source": []
  },
  {
   "cell_type": "code",
   "execution_count": null,
   "metadata": {
    "collapsed": false
   },
   "outputs": [],
   "source": []
  },
  {
   "cell_type": "code",
   "execution_count": 32,
   "metadata": {
    "collapsed": false
   },
   "outputs": [],
   "source": [
    "depusers = pd.read_csv(data_path+'Department Users CSV.csv')\n",
    "depusers['Department'] = depusers['Department'].str.lower()\n",
    "depusers = depusers.replace({'Department': dept_dict})\n",
    "depusers['Count'] = np.arange(len(depusers))\n",
    "depusers = depusers.groupby('Department').count()"
   ]
  },
  {
   "cell_type": "code",
   "execution_count": null,
   "metadata": {
    "collapsed": false
   },
   "outputs": [],
   "source": []
  },
  {
   "cell_type": "code",
   "execution_count": 33,
   "metadata": {
    "collapsed": false
   },
   "outputs": [],
   "source": [
    "depagg['Total Users'] = depusers['Count']"
   ]
  },
  {
   "cell_type": "code",
   "execution_count": 34,
   "metadata": {
    "collapsed": false
   },
   "outputs": [],
   "source": [
    "depagg.to_csv(data_path+'Department Profile Statistics.csv')"
   ]
  },
  {
   "cell_type": "code",
   "execution_count": 35,
   "metadata": {
    "collapsed": true
   },
   "outputs": [],
   "source": [
    "depperc = depagg\n",
    "depperc['Users'] = depperc['Users']/depperc['Total Users']\n",
    "depperc['About me'] = depperc['About me']/depperc['Total Users']\n",
    "depperc['Avatar'] = depperc['Avatar']/depperc['Total Users']\n",
    "depperc['Both'] = depperc['Both']/depperc['Total Users']\n"
   ]
  },
  {
   "cell_type": "code",
   "execution_count": 36,
   "metadata": {
    "collapsed": false
   },
   "outputs": [],
   "source": [
    "depperc.to_csv(data_path+'Department Profile Statistics Percentages.csv')"
   ]
  },
  {
   "cell_type": "code",
   "execution_count": 40,
   "metadata": {
    "collapsed": false
   },
   "outputs": [
    {
     "ename": "NameError",
     "evalue": "name 'deppagg' is not defined",
     "output_type": "error",
     "traceback": [
      "\u001b[1;31m---------------------------------------------------------------------------\u001b[0m",
      "\u001b[1;31mNameError\u001b[0m                                 Traceback (most recent call last)",
      "\u001b[1;32m<ipython-input-40-9bd0e48dc5c3>\u001b[0m in \u001b[0;36m<module>\u001b[1;34m()\u001b[0m\n\u001b[1;32m----> 1\u001b[1;33m \u001b[0mdeppagg\u001b[0m\u001b[1;33m\u001b[0m\u001b[0m\n\u001b[0m",
      "\u001b[1;31mNameError\u001b[0m: name 'deppagg' is not defined"
     ]
    }
   ],
   "source": []
  },
  {
   "cell_type": "code",
   "execution_count": null,
   "metadata": {
    "collapsed": true
   },
   "outputs": [],
   "source": []
  }
 ],
 "metadata": {
  "kernelspec": {
   "display_name": "Python 3",
   "language": "python",
   "name": "python3"
  },
  "language_info": {
   "codemirror_mode": {
    "name": "ipython",
    "version": 3
   },
   "file_extension": ".py",
   "mimetype": "text/x-python",
   "name": "python",
   "nbconvert_exporter": "python",
   "pygments_lexer": "ipython3",
   "version": "3.4.3"
  }
 },
 "nbformat": 4,
 "nbformat_minor": 0
}
