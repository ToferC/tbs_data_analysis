{
 "cells": [
  {
   "cell_type": "code",
   "execution_count": 1,
   "metadata": {
    "collapsed": false
   },
   "outputs": [],
   "source": [
    "import pandas as pd\n",
    "import pylab as pl\n",
    "import numpy as np\n",
    "import matplotlib.pyplot as plt\n",
    "import os\n",
    "import glob\n",
    "import re\n",
    "import networkx as nx\n",
    "import csv\n",
    "import json\n",
    "\n",
    "mpl_fig = plt.figure()"
   ]
  },
  {
   "cell_type": "code",
   "execution_count": null,
   "metadata": {
    "collapsed": false
   },
   "outputs": [],
   "source": []
  },
  {
   "cell_type": "code",
   "execution_count": 2,
   "metadata": {
    "collapsed": false
   },
   "outputs": [],
   "source": [
    "data_path = r\"C:/Users/Owner/Documents/Work_transfer/Data/GCconnex_collab/\"\n",
    "gephi_path = r\"C:/Users/Owner/Documents/Work_transfer/Gephi/GCconnex/\""
   ]
  },
  {
   "cell_type": "code",
   "execution_count": 3,
   "metadata": {
    "collapsed": false
   },
   "outputs": [],
   "source": [
    "dept_emails = []\n",
    "edges = []\n",
    "details = {}\n",
    "errors = []"
   ]
  },
  {
   "cell_type": "code",
   "execution_count": null,
   "metadata": {
    "collapsed": false
   },
   "outputs": [],
   "source": []
  },
  {
   "cell_type": "markdown",
   "metadata": {
    "collapsed": false
   },
   "source": [
    "## Create Nodes from users"
   ]
  },
  {
   "cell_type": "code",
   "execution_count": 4,
   "metadata": {
    "collapsed": false
   },
   "outputs": [],
   "source": [
    "# Read CSV of UID and names and create nodes for each user\n",
    "\n",
    "with open(os.path.join(data_path+\"gcc_user_info_update_2015-09-03.csv\"), \"r\") as f:\n",
    "    reader = csv.reader(f, delimiter=',')\n",
    "    next(reader)\n",
    "\n",
    "    for row in reader:\n",
    "        uid, email, start_date = row\n",
    "        ampersand = email.find(\"@\")\n",
    "        name = email[0:ampersand]\n",
    "        department = email[ampersand + 1:]\n",
    "        details[uid] = {'label':name, 'department':department, 'active': \"\", 'end': '01-09-2015', 'start': start_date}\n",
    "        dept_emails.append(department.lower())\n"
   ]
  },
  {
   "cell_type": "markdown",
   "metadata": {
    "collapsed": false
   },
   "source": [
    "### Clean & Filter Department Names"
   ]
  },
  {
   "cell_type": "code",
   "execution_count": 5,
   "metadata": {
    "collapsed": false
   },
   "outputs": [],
   "source": [
    "dept_emails = set(dept_emails)"
   ]
  },
  {
   "cell_type": "code",
   "execution_count": 6,
   "metadata": {
    "collapsed": false
   },
   "outputs": [],
   "source": [
    "dept_acr = [x.split('.') for x in dept_emails]"
   ]
  },
  {
   "cell_type": "code",
   "execution_count": 7,
   "metadata": {
    "collapsed": false
   },
   "outputs": [],
   "source": [
    "dept_acr = [x[0] for x in dept_acr]\n"
   ]
  },
  {
   "cell_type": "code",
   "execution_count": 8,
   "metadata": {
    "collapsed": false
   },
   "outputs": [],
   "source": [
    "dept_acr = set(dept_acr)"
   ]
  },
  {
   "cell_type": "code",
   "execution_count": 9,
   "metadata": {
    "collapsed": false
   },
   "outputs": [
    {
     "data": {
      "text/plain": [
       "{'',\n",
       " 'a',\n",
       " 'aadnc',\n",
       " 'aadnc-aandc',\n",
       " 'aandc',\n",
       " 'aandc-aadnc',\n",
       " 'aandc-aandc',\n",
       " 'abcd',\n",
       " 'acdi-cida',\n",
       " 'acoa',\n",
       " 'acoa-apeca',\n",
       " 'aecl',\n",
       " 'afc-cfa',\n",
       " 'agr',\n",
       " 'ainc-inac',\n",
       " 'apeca-acoa',\n",
       " 'apex',\n",
       " 'apl',\n",
       " 'arc',\n",
       " 'arc-cra',\n",
       " 'asc-csa',\n",
       " 'asfc',\n",
       " 'asfc-cbsa',\n",
       " 'bac-lac',\n",
       " 'bank-banque-canada',\n",
       " 'bankofcanada',\n",
       " 'bc-cb',\n",
       " 'bcp',\n",
       " 'bcp-pco',\n",
       " 'bdc',\n",
       " 'bnet',\n",
       " 'boa-opo',\n",
       " 'bst-tsb',\n",
       " 'cadets',\n",
       " 'canada',\n",
       " 'canadabusiness',\n",
       " 'canadacouncil',\n",
       " 'canafe-fintrac',\n",
       " 'cannor',\n",
       " 'capprt',\n",
       " 'capprt-tcrpap',\n",
       " 'cart-crac',\n",
       " 'cas-satj',\n",
       " 'catsa',\n",
       " 'cb-bc',\n",
       " 'cb-cda',\n",
       " 'cbsa',\n",
       " 'cbsa-afsc',\n",
       " 'cbsa-asfc',\n",
       " 'cbsc-asfc',\n",
       " 'ccbn-nbc',\n",
       " 'ccc',\n",
       " 'ccgs-ngcc',\n",
       " 'cco-bcc',\n",
       " 'ccohs',\n",
       " 'cdc-ccl',\n",
       " 'cdic',\n",
       " 'ceaa',\n",
       " 'ceaa-acee',\n",
       " 'cef-cce',\n",
       " 'cfc-swc',\n",
       " 'cfgb',\n",
       " 'cfgb-cgfc',\n",
       " 'cfp-psc',\n",
       " 'chrc-ccdp',\n",
       " 'chrcc-ccdp',\n",
       " 'chrt-tcdp',\n",
       " 'ci-oic',\n",
       " 'cic',\n",
       " 'cie',\n",
       " 'cihr',\n",
       " 'cihr-irsc',\n",
       " 'cirb-ccri',\n",
       " 'cisr',\n",
       " 'cisr-irb',\n",
       " 'citt-tcce',\n",
       " 'cjc-ccm',\n",
       " 'clo-ocol',\n",
       " 'cmhc',\n",
       " 'cmhc-schl',\n",
       " 'cnl',\n",
       " 'cnrc-nrc',\n",
       " 'cnsc',\n",
       " 'cnsc-ccsn',\n",
       " 'cpc-cpp',\n",
       " 'cra',\n",
       " 'cra-arc',\n",
       " 'crc',\n",
       " 'crcc-ccetp',\n",
       " 'crtc',\n",
       " 'csa-asc',\n",
       " 'csc',\n",
       " 'csc-scc',\n",
       " 'cse-cst',\n",
       " 'cspc-efpc',\n",
       " 'csps',\n",
       " 'csps-afpc',\n",
       " 'csps-efpc',\n",
       " 'cta-otc',\n",
       " 'dcc-cdc',\n",
       " 'dec-ced',\n",
       " 'deo',\n",
       " 'dfo-mpo',\n",
       " 'drdc-rddc',\n",
       " 'ec',\n",
       " 'ecbc-secb',\n",
       " 'edc',\n",
       " 'elections',\n",
       " 'erc-cee',\n",
       " 'fcac',\n",
       " 'fcac-acfc',\n",
       " 'feddevontario',\n",
       " 'fin',\n",
       " 'fintrac-canafe',\n",
       " 'fja-cmf',\n",
       " 'forces',\n",
       " 'gallery',\n",
       " 'gc',\n",
       " 'gg',\n",
       " 'gmail',\n",
       " 'god',\n",
       " 'grainscanada',\n",
       " 'hc-gc',\n",
       " 'hc-sc',\n",
       " 'horizons',\n",
       " 'hotmail',\n",
       " 'hrsdc-rhdcc',\n",
       " 'hrsdc-rhdsc',\n",
       " 'hrsdcc-rhdcc',\n",
       " 'hs-sc',\n",
       " 'ic',\n",
       " 'idrc',\n",
       " 'inac',\n",
       " 'inac-ainc',\n",
       " 'infc',\n",
       " 'inpsection',\n",
       " 'inspection',\n",
       " 'interenational',\n",
       " 'intern',\n",
       " 'international',\n",
       " 'irb',\n",
       " 'irb-cisr',\n",
       " 'irsad-sapi',\n",
       " 'judicom',\n",
       " 'justice',\n",
       " 'labour-travail',\n",
       " 'lac-bac',\n",
       " 'mar',\n",
       " 'mgerc',\n",
       " 'mgerc-ceegm',\n",
       " 'mpcc-cppm',\n",
       " 'museedelhistoire',\n",
       " 'ncc-ccn',\n",
       " 'nce-rce',\n",
       " 'ncw-cnb',\n",
       " 'neb-one',\n",
       " 'nfb',\n",
       " 'nfb-onf',\n",
       " 'nrc',\n",
       " 'nrc-cnrc',\n",
       " 'nrcan',\n",
       " 'nrcan-rncan',\n",
       " 'nrccan-rncan',\n",
       " 'nrtee-trnee',\n",
       " 'nserc-crsng',\n",
       " 'nss',\n",
       " 'nss-snrs',\n",
       " 'nxc211',\n",
       " 'oag-bvg',\n",
       " 'oci-bec',\n",
       " 'ocl-cal',\n",
       " 'ocol-clo',\n",
       " 'ocrt-bctr',\n",
       " 'ofc-cfo',\n",
       " 'oic-ci',\n",
       " 'ombudsman-veterans',\n",
       " 'onf',\n",
       " 'onf-nfb',\n",
       " 'opo-boa',\n",
       " 'opscen',\n",
       " 'osfi-bsif',\n",
       " 'otc-cta',\n",
       " 'oto-boc',\n",
       " 'ottawa',\n",
       " 'p3canada',\n",
       " 'parl',\n",
       " 'pbc-clcc',\n",
       " 'pbc-cllc',\n",
       " 'pc',\n",
       " 'pch',\n",
       " 'pco',\n",
       " 'pco-bcp',\n",
       " 'phac-aspc',\n",
       " 'pipsc',\n",
       " 'pmo-cpm',\n",
       " 'pmprb-cepmb',\n",
       " 'polar',\n",
       " 'polarcom',\n",
       " 'ppsc',\n",
       " 'ppsc-sppc',\n",
       " 'pptc',\n",
       " 'priv',\n",
       " 'privcom',\n",
       " 'ps',\n",
       " 'ps-sp',\n",
       " 'psc-cfp',\n",
       " 'psc2-spc2',\n",
       " 'psdpt-tpfd',\n",
       " 'psic-ispc',\n",
       " 'pslrb-crtfp',\n",
       " 'psst-tdfp',\n",
       " 'pwgsc',\n",
       " 'pwgsc-tpgsc',\n",
       " 'pwgsc-tpsg',\n",
       " 'pwgsc-tpsgc',\n",
       " 'rcmp-grc',\n",
       " 'rmc',\n",
       " 'rmcc-cmrc',\n",
       " 'rncan',\n",
       " 'rncan-nrcan',\n",
       " 'rogers',\n",
       " 'satj-cas',\n",
       " 'scc',\n",
       " 'scc-csc',\n",
       " 'scics',\n",
       " 'sct-trp',\n",
       " 'sen',\n",
       " 'servicecanada',\n",
       " 'sirc-csars',\n",
       " 'smtp',\n",
       " 'sopf-cidphn',\n",
       " 'sp',\n",
       " 'sp-ps',\n",
       " 'spc',\n",
       " 'spc-ssc',\n",
       " 'sppc-ppsc',\n",
       " 'ssc',\n",
       " 'ssc-spc',\n",
       " 'sshrc-crsh',\n",
       " 'statcan',\n",
       " 'swc-cfc',\n",
       " 'tatc',\n",
       " 'tbs-sct',\n",
       " 'tc',\n",
       " 'technomuses',\n",
       " 'telefilm',\n",
       " 'tpgsc-pwgsc',\n",
       " 'tpsgc',\n",
       " 'tpsgc-pwgsc',\n",
       " 'tpsgc-pwgst',\n",
       " 'tpsgc-pwsgc',\n",
       " 'tribunal',\n",
       " 'tsb',\n",
       " 'tsb-bst',\n",
       " 'ursce',\n",
       " 'vac-acc',\n",
       " 'vrab-tacra',\n",
       " 'warmuseum',\n",
       " 'wd',\n",
       " 'wd-deo'}"
      ]
     },
     "execution_count": 9,
     "metadata": {},
     "output_type": "execute_result"
    }
   ],
   "source": [
    "dept_acr"
   ]
  },
  {
   "cell_type": "code",
   "execution_count": null,
   "metadata": {
    "collapsed": true
   },
   "outputs": [],
   "source": []
  },
  {
   "cell_type": "markdown",
   "metadata": {},
   "source": [
    "### Blogs"
   ]
  },
  {
   "cell_type": "code",
   "execution_count": 8,
   "metadata": {
    "collapsed": false
   },
   "outputs": [],
   "source": [
    "# Read CSV blogs and create edges for connections\n",
    "\n",
    "with open(data_path+\"gccResults_blogs.csv\", 'r') as f:\n",
    "    reader = csv.reader(f, delimiter=',')\n",
    "    next(reader)\n",
    "    \n",
    "    for row in reader:\n",
    "        if len(row) > 1:\n",
    "            blog_data = row[0].split(' ')\n",
    "            blog, author, date_created, extra = blog_data\n",
    "\n",
    "            for comment in row[1:]: # Get comments (2+ columns)\n",
    "                comment_data = comment.split()\n",
    "                blog, commenter, comment_date = comment_data\n",
    "                edges.append([commenter, author, comment_date, 'blog'])\n",
    "            "
   ]
  },
  {
   "cell_type": "code",
   "execution_count": null,
   "metadata": {
    "collapsed": false
   },
   "outputs": [],
   "source": [
    " # Users who comment on the same blog are associated with each other\n",
    "'''for user in associations:\n",
    "    for target in associations:\n",
    "        if user != target:\n",
    "            edges.append([user, target, date_created, 'blog'])'''\n",
    "            "
   ]
  },
  {
   "cell_type": "markdown",
   "metadata": {},
   "source": [
    "### Ideas"
   ]
  },
  {
   "cell_type": "code",
   "execution_count": 10,
   "metadata": {
    "collapsed": false
   },
   "outputs": [],
   "source": [
    "# Read CSV blogs and create edges for ideas\n",
    "\n",
    "with open(data_path+\"gccResults_ideas.csv\", 'r') as f:\n",
    "    reader = csv.reader(f, delimiter=',')\n",
    "    next(reader)\n",
    "    \n",
    "    for row in reader:\n",
    "        \n",
    "        if len(row) > 1:\n",
    "            idea_data = row[0].split(' ')\n",
    "            idea, author, date_created, extra = idea_data\n",
    "\n",
    "            for comment in row[1:]: # Get comments (2+ columns)\n",
    "                comment_data = comment.split()\n",
    "                comment_id, idea, commenter = comment_data\n",
    "                edges.append([commenter, author, date_created, 'idea'])\n",
    "            "
   ]
  },
  {
   "cell_type": "code",
   "execution_count": null,
   "metadata": {
    "collapsed": false
   },
   "outputs": [],
   "source": []
  },
  {
   "cell_type": "markdown",
   "metadata": {},
   "source": [
    "### Pages"
   ]
  },
  {
   "cell_type": "code",
   "execution_count": 13,
   "metadata": {
    "collapsed": false
   },
   "outputs": [],
   "source": [
    "# Read CSV blogs and create edges for pages\n",
    "\n",
    "with open(data_path+\"gccResults_pages.csv\", 'r') as f:\n",
    "    reader = csv.reader(f, delimiter=',')\n",
    "    next(reader)\n",
    "    \n",
    "    for row in reader:\n",
    "        if len(row) > 1:\n",
    "            page_data = row[0].split(' ')\n",
    "            page, author, date_created, extra = page_data\n",
    "\n",
    "            for comment in row[1:]: # Get comments (2+ columns)\n",
    "                comment_data = comment.split()\n",
    "                comment_id, page, commenter = comment_data\n",
    "                edges.append([commenter, author, date_created, 'page'])"
   ]
  },
  {
   "cell_type": "markdown",
   "metadata": {},
   "source": [
    "### Discussions"
   ]
  },
  {
   "cell_type": "code",
   "execution_count": 15,
   "metadata": {
    "collapsed": false
   },
   "outputs": [],
   "source": [
    "# Read CSV discussion and create edges for discussions\n",
    "\n",
    "with open(data_path+\"gccResults_topics.csv\", 'r') as f:\n",
    "    reader = csv.reader(f, delimiter=',')\n",
    "    next(reader)\n",
    "    \n",
    "    for row in reader:\n",
    "        if len(row) > 1:\n",
    "            discussion_data = row[0].split(' ')\n",
    "            discussion, author, date_created, extra = discussion_data\n",
    "\n",
    "            for comment in row[1:]: # Get comments (2+ columns)\n",
    "                comment_data = comment.split()\n",
    "                discussion, commenter, comment_date = comment_data\n",
    "                edges.append([commenter, author, comment_date, 'discussion'])"
   ]
  },
  {
   "cell_type": "code",
   "execution_count": 30,
   "metadata": {
    "collapsed": false
   },
   "outputs": [],
   "source": [
    "# Read CSV discussion and create edges for colleagues\n",
    "\n",
    "with open(data_path+\"gccResults_colleagues.csv\", 'r') as f:\n",
    "    reader = csv.reader(f, delimiter=',')\n",
    "    next(reader)\n",
    "    \n",
    "    for row in reader:\n",
    "        if len(row) > 1:\n",
    "            colleague_data = row[0].split(' ')\n",
    "            colleague = colleague_data[0]\n",
    "            email = colleague_data[1]\n",
    "\n",
    "            for c in row[1:]: # Get comments (2+ columns)\n",
    "                data = c.split()\n",
    "                source, target, date = data\n",
    "                edges.append([source, target, date, 'colleague'])"
   ]
  },
  {
   "cell_type": "code",
   "execution_count": 9,
   "metadata": {
    "collapsed": true
   },
   "outputs": [],
   "source": [
    "# Combine multiple interactions into a single edge with weigth equal to the number of interactions\n",
    "\n",
    "edge_dict = {}\n",
    "\n",
    "for e in edges:\n",
    "    \n",
    "    # Remove references when people reply to their own creations\n",
    "    if e[0] == e[1]:\n",
    "        pass\n",
    "    else:\n",
    "        # Either add +1 weight for duplicate edges or create a new edge\n",
    "        try:\n",
    "            edge_dict[\"{}, {}\".format(e[0], e[1])]['weight'] += 1\n",
    "        except KeyError:\n",
    "            edge_dict[\"{}, {}\".format(e[0], e[1])] = {'source': e[0], 'target': e[1], 'weight': 1, 'date': e[2]}\n",
    "        "
   ]
  },
  {
   "cell_type": "code",
   "execution_count": null,
   "metadata": {
    "collapsed": false
   },
   "outputs": [],
   "source": []
  },
  {
   "cell_type": "code",
   "execution_count": 10,
   "metadata": {
    "collapsed": false
   },
   "outputs": [],
   "source": [
    "G=nx.DiGraph()"
   ]
  },
  {
   "cell_type": "code",
   "execution_count": 11,
   "metadata": {
    "collapsed": false
   },
   "outputs": [],
   "source": [
    "for k,v in details.items():\n",
    "    G.add_node(k, label=v['label'], department=v['department'], activity=v['active'], start=v['start'], end=v['end'])\n",
    "    \n",
    "for e in edge_dict:\n",
    "    G.add_edge(edge_dict[e]['source'], edge_dict[e]['target'], weight=edge_dict[e]['weight'], date=edge_dict[e]['date'])"
   ]
  },
  {
   "cell_type": "code",
   "execution_count": 12,
   "metadata": {
    "collapsed": false
   },
   "outputs": [
    {
     "data": {
      "text/plain": [
       "67"
      ]
     },
     "execution_count": 12,
     "metadata": {},
     "output_type": "execute_result"
    }
   ],
   "source": [
    "len(edge_dict)"
   ]
  },
  {
   "cell_type": "code",
   "execution_count": null,
   "metadata": {
    "collapsed": false
   },
   "outputs": [],
   "source": []
  },
  {
   "cell_type": "code",
   "execution_count": null,
   "metadata": {
    "collapsed": false
   },
   "outputs": [],
   "source": []
  },
  {
   "cell_type": "code",
   "execution_count": null,
   "metadata": {
    "collapsed": true
   },
   "outputs": [],
   "source": []
  },
  {
   "cell_type": "code",
   "execution_count": null,
   "metadata": {
    "collapsed": false
   },
   "outputs": [],
   "source": [
    "# Export to JSON format\n",
    "from networkx.readwrite import json_graph\n",
    "\n",
    "d = json_graph.node_link_data(G)\n",
    "json.dump(d, open('/Users/christopherallison/Documents/Coding/Python/Network Graph/force/GC_network_activity.json', 'w'))"
   ]
  },
  {
   "cell_type": "code",
   "execution_count": 13,
   "metadata": {
    "collapsed": true
   },
   "outputs": [],
   "source": [
    "# Write to Graphml format\n",
    "nx.write_graphml(G,gephi_path + \"GCconnex_users_page_connections_2015-09-03.graphml\")"
   ]
  },
  {
   "cell_type": "markdown",
   "metadata": {
    "collapsed": true
   },
   "source": [
    "### Now open up Gephi and play with your data!"
   ]
  },
  {
   "cell_type": "code",
   "execution_count": null,
   "metadata": {
    "collapsed": true
   },
   "outputs": [],
   "source": []
  }
 ],
 "metadata": {
  "kernelspec": {
   "display_name": "Python 3",
   "language": "python",
   "name": "python3"
  },
  "language_info": {
   "codemirror_mode": {
    "name": "ipython",
    "version": 3
   },
   "file_extension": ".py",
   "mimetype": "text/x-python",
   "name": "python",
   "nbconvert_exporter": "python",
   "pygments_lexer": "ipython3",
   "version": "3.4.3"
  }
 },
 "nbformat": 4,
 "nbformat_minor": 0
}
